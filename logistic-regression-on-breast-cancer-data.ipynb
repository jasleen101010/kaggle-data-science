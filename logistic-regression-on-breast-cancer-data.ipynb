{
 "cells": [
  {
   "cell_type": "markdown",
   "id": "5a680783",
   "metadata": {
    "id": "a938b8b5",
    "papermill": {
     "duration": 0.010038,
     "end_time": "2022-08-10T05:01:19.160724",
     "exception": false,
     "start_time": "2022-08-10T05:01:19.150686",
     "status": "completed"
    },
    "tags": []
   },
   "source": [
    " # **Logistic Regression**\n",
    "<hr/>\n",
    "\n",
    "Submitted by <br>\n",
    "Name: **Jasleen Kaur Sondhi** <br>\n",
    "Register Number: **21122027** <br>\n",
    "Class: **2nd Sem MSc Data Science**  \n",
    "\n",
    "<hr>\n",
    "\n"
   ]
  },
  {
   "cell_type": "markdown",
   "id": "9470f062",
   "metadata": {
    "id": "d83a9fa1",
    "papermill": {
     "duration": 0.007539,
     "end_time": "2022-08-10T05:01:19.176376",
     "exception": false,
     "start_time": "2022-08-10T05:01:19.168837",
     "status": "completed"
    },
    "tags": []
   },
   "source": [
    "## Lab Overview  \n",
    "### Objectives\n",
    "\n",
    "In this lab, we will learn how to perform logistic regression on breast cancer .\n",
    "\n",
    "We will do the following-\n",
    "\n",
    "1. Demonstrate the Logistic Regression for different penalties/regularisation methods - none, l1, l2 (you may use 'saga' solver as the parameter)\n",
    "2. What happens when the Maximum Iterations are kept as 1, 2, 5, 10, 20, 50, 100, 500 and 1000? Is there any change in the accuracy.\n",
    "3. Get the attributes: classes_, coef_ and intercept_ and print the same in the above case.\n"
   ]
  },
  {
   "cell_type": "markdown",
   "id": "c4497d74",
   "metadata": {
    "id": "37f4cdb2",
    "papermill": {
     "duration": 0.008352,
     "end_time": "2022-08-10T05:01:19.194349",
     "exception": false,
     "start_time": "2022-08-10T05:01:19.185997",
     "status": "completed"
    },
    "tags": []
   },
   "source": [
    "### Problem Definition\n",
    "Apply Logistic Regression for Breast Cancer Dataset."
   ]
  },
  {
   "cell_type": "markdown",
   "id": "ccba23af",
   "metadata": {
    "id": "5c82ffc3",
    "papermill": {
     "duration": 0.010375,
     "end_time": "2022-08-10T05:01:19.215426",
     "exception": false,
     "start_time": "2022-08-10T05:01:19.205051",
     "status": "completed"
    },
    "tags": []
   },
   "source": [
    "### References\n",
    "Links referred:\n",
    "1. https://www.quora.com/What-is-regularization-in-machine-learning\n",
    "2. https://towardsdatascience.com/regularization-in-machine-learning-76441ddcf99a\n",
    "3. https://towardsdatascience.com/regularization-an-important-concept-in-machine-learning-5891628907ea\n",
    "4. https://www.geeksforgeeks.org/regularization-in-machine-learning/\n",
    "5. https://analyticsindiamag.com/regularization-in-machine-learning-a-detailed-guide/\n",
    "6. https://towardsdatascience.com/l1-and-l2-regularization-methods-ce25e7fc831c\n",
    "<hr/>"
   ]
  },
  {
   "cell_type": "markdown",
   "id": "cd0b6e33",
   "metadata": {
    "id": "654fceeb",
    "papermill": {
     "duration": 0.011143,
     "end_time": "2022-08-10T05:01:19.235131",
     "exception": false,
     "start_time": "2022-08-10T05:01:19.223988",
     "status": "completed"
    },
    "tags": []
   },
   "source": [
    "## Performing Logistic Regression"
   ]
  },
  {
   "cell_type": "code",
   "execution_count": 1,
   "id": "d3bcfdfe",
   "metadata": {
    "execution": {
     "iopub.execute_input": "2022-08-10T05:01:19.260717Z",
     "iopub.status.busy": "2022-08-10T05:01:19.260023Z",
     "iopub.status.idle": "2022-08-10T05:01:20.469408Z",
     "shell.execute_reply": "2022-08-10T05:01:20.468165Z"
    },
    "id": "a7504fa3",
    "papermill": {
     "duration": 1.225985,
     "end_time": "2022-08-10T05:01:20.472406",
     "exception": false,
     "start_time": "2022-08-10T05:01:19.246421",
     "status": "completed"
    },
    "tags": []
   },
   "outputs": [],
   "source": [
    "import numpy as np\n",
    "import pandas as pd\n",
    "import seaborn as sns"
   ]
  },
  {
   "cell_type": "code",
   "execution_count": 2,
   "id": "75331178",
   "metadata": {
    "execution": {
     "iopub.execute_input": "2022-08-10T05:01:20.489668Z",
     "iopub.status.busy": "2022-08-10T05:01:20.489274Z",
     "iopub.status.idle": "2022-08-10T05:01:20.550543Z",
     "shell.execute_reply": "2022-08-10T05:01:20.549253Z"
    },
    "id": "3865d3a1",
    "outputId": "43517b49-1116-49e6-e307-e3b7f7d4a2aa",
    "papermill": {
     "duration": 0.073639,
     "end_time": "2022-08-10T05:01:20.553903",
     "exception": false,
     "start_time": "2022-08-10T05:01:20.480264",
     "status": "completed"
    },
    "tags": []
   },
   "outputs": [
    {
     "data": {
      "text/html": [
       "<div>\n",
       "<style scoped>\n",
       "    .dataframe tbody tr th:only-of-type {\n",
       "        vertical-align: middle;\n",
       "    }\n",
       "\n",
       "    .dataframe tbody tr th {\n",
       "        vertical-align: top;\n",
       "    }\n",
       "\n",
       "    .dataframe thead th {\n",
       "        text-align: right;\n",
       "    }\n",
       "</style>\n",
       "<table border=\"1\" class=\"dataframe\">\n",
       "  <thead>\n",
       "    <tr style=\"text-align: right;\">\n",
       "      <th></th>\n",
       "      <th>id</th>\n",
       "      <th>diagnosis</th>\n",
       "      <th>radius_mean</th>\n",
       "      <th>texture_mean</th>\n",
       "      <th>perimeter_mean</th>\n",
       "      <th>area_mean</th>\n",
       "      <th>smoothness_mean</th>\n",
       "      <th>compactness_mean</th>\n",
       "      <th>concavity_mean</th>\n",
       "      <th>concave points_mean</th>\n",
       "      <th>...</th>\n",
       "      <th>radius_worst</th>\n",
       "      <th>texture_worst</th>\n",
       "      <th>perimeter_worst</th>\n",
       "      <th>area_worst</th>\n",
       "      <th>smoothness_worst</th>\n",
       "      <th>compactness_worst</th>\n",
       "      <th>concavity_worst</th>\n",
       "      <th>concave points_worst</th>\n",
       "      <th>symmetry_worst</th>\n",
       "      <th>fractal_dimension_worst</th>\n",
       "    </tr>\n",
       "  </thead>\n",
       "  <tbody>\n",
       "    <tr>\n",
       "      <th>0</th>\n",
       "      <td>842302</td>\n",
       "      <td>M</td>\n",
       "      <td>17.99</td>\n",
       "      <td>10.38</td>\n",
       "      <td>122.80</td>\n",
       "      <td>1001.0</td>\n",
       "      <td>0.11840</td>\n",
       "      <td>0.27760</td>\n",
       "      <td>0.3001</td>\n",
       "      <td>0.14710</td>\n",
       "      <td>...</td>\n",
       "      <td>25.38</td>\n",
       "      <td>17.33</td>\n",
       "      <td>184.60</td>\n",
       "      <td>2019.0</td>\n",
       "      <td>0.1622</td>\n",
       "      <td>0.6656</td>\n",
       "      <td>0.7119</td>\n",
       "      <td>0.2654</td>\n",
       "      <td>0.4601</td>\n",
       "      <td>0.11890</td>\n",
       "    </tr>\n",
       "    <tr>\n",
       "      <th>1</th>\n",
       "      <td>842517</td>\n",
       "      <td>M</td>\n",
       "      <td>20.57</td>\n",
       "      <td>17.77</td>\n",
       "      <td>132.90</td>\n",
       "      <td>1326.0</td>\n",
       "      <td>0.08474</td>\n",
       "      <td>0.07864</td>\n",
       "      <td>0.0869</td>\n",
       "      <td>0.07017</td>\n",
       "      <td>...</td>\n",
       "      <td>24.99</td>\n",
       "      <td>23.41</td>\n",
       "      <td>158.80</td>\n",
       "      <td>1956.0</td>\n",
       "      <td>0.1238</td>\n",
       "      <td>0.1866</td>\n",
       "      <td>0.2416</td>\n",
       "      <td>0.1860</td>\n",
       "      <td>0.2750</td>\n",
       "      <td>0.08902</td>\n",
       "    </tr>\n",
       "    <tr>\n",
       "      <th>2</th>\n",
       "      <td>84300903</td>\n",
       "      <td>M</td>\n",
       "      <td>19.69</td>\n",
       "      <td>21.25</td>\n",
       "      <td>130.00</td>\n",
       "      <td>1203.0</td>\n",
       "      <td>0.10960</td>\n",
       "      <td>0.15990</td>\n",
       "      <td>0.1974</td>\n",
       "      <td>0.12790</td>\n",
       "      <td>...</td>\n",
       "      <td>23.57</td>\n",
       "      <td>25.53</td>\n",
       "      <td>152.50</td>\n",
       "      <td>1709.0</td>\n",
       "      <td>0.1444</td>\n",
       "      <td>0.4245</td>\n",
       "      <td>0.4504</td>\n",
       "      <td>0.2430</td>\n",
       "      <td>0.3613</td>\n",
       "      <td>0.08758</td>\n",
       "    </tr>\n",
       "    <tr>\n",
       "      <th>3</th>\n",
       "      <td>84348301</td>\n",
       "      <td>M</td>\n",
       "      <td>11.42</td>\n",
       "      <td>20.38</td>\n",
       "      <td>77.58</td>\n",
       "      <td>386.1</td>\n",
       "      <td>0.14250</td>\n",
       "      <td>0.28390</td>\n",
       "      <td>0.2414</td>\n",
       "      <td>0.10520</td>\n",
       "      <td>...</td>\n",
       "      <td>14.91</td>\n",
       "      <td>26.50</td>\n",
       "      <td>98.87</td>\n",
       "      <td>567.7</td>\n",
       "      <td>0.2098</td>\n",
       "      <td>0.8663</td>\n",
       "      <td>0.6869</td>\n",
       "      <td>0.2575</td>\n",
       "      <td>0.6638</td>\n",
       "      <td>0.17300</td>\n",
       "    </tr>\n",
       "    <tr>\n",
       "      <th>4</th>\n",
       "      <td>84358402</td>\n",
       "      <td>M</td>\n",
       "      <td>20.29</td>\n",
       "      <td>14.34</td>\n",
       "      <td>135.10</td>\n",
       "      <td>1297.0</td>\n",
       "      <td>0.10030</td>\n",
       "      <td>0.13280</td>\n",
       "      <td>0.1980</td>\n",
       "      <td>0.10430</td>\n",
       "      <td>...</td>\n",
       "      <td>22.54</td>\n",
       "      <td>16.67</td>\n",
       "      <td>152.20</td>\n",
       "      <td>1575.0</td>\n",
       "      <td>0.1374</td>\n",
       "      <td>0.2050</td>\n",
       "      <td>0.4000</td>\n",
       "      <td>0.1625</td>\n",
       "      <td>0.2364</td>\n",
       "      <td>0.07678</td>\n",
       "    </tr>\n",
       "  </tbody>\n",
       "</table>\n",
       "<p>5 rows × 32 columns</p>\n",
       "</div>"
      ],
      "text/plain": [
       "         id diagnosis  radius_mean  texture_mean  perimeter_mean  area_mean  \\\n",
       "0    842302         M        17.99         10.38          122.80     1001.0   \n",
       "1    842517         M        20.57         17.77          132.90     1326.0   \n",
       "2  84300903         M        19.69         21.25          130.00     1203.0   \n",
       "3  84348301         M        11.42         20.38           77.58      386.1   \n",
       "4  84358402         M        20.29         14.34          135.10     1297.0   \n",
       "\n",
       "   smoothness_mean  compactness_mean  concavity_mean  concave points_mean  \\\n",
       "0          0.11840           0.27760          0.3001              0.14710   \n",
       "1          0.08474           0.07864          0.0869              0.07017   \n",
       "2          0.10960           0.15990          0.1974              0.12790   \n",
       "3          0.14250           0.28390          0.2414              0.10520   \n",
       "4          0.10030           0.13280          0.1980              0.10430   \n",
       "\n",
       "   ...  radius_worst  texture_worst  perimeter_worst  area_worst  \\\n",
       "0  ...         25.38          17.33           184.60      2019.0   \n",
       "1  ...         24.99          23.41           158.80      1956.0   \n",
       "2  ...         23.57          25.53           152.50      1709.0   \n",
       "3  ...         14.91          26.50            98.87       567.7   \n",
       "4  ...         22.54          16.67           152.20      1575.0   \n",
       "\n",
       "   smoothness_worst  compactness_worst  concavity_worst  concave points_worst  \\\n",
       "0            0.1622             0.6656           0.7119                0.2654   \n",
       "1            0.1238             0.1866           0.2416                0.1860   \n",
       "2            0.1444             0.4245           0.4504                0.2430   \n",
       "3            0.2098             0.8663           0.6869                0.2575   \n",
       "4            0.1374             0.2050           0.4000                0.1625   \n",
       "\n",
       "   symmetry_worst  fractal_dimension_worst  \n",
       "0          0.4601                  0.11890  \n",
       "1          0.2750                  0.08902  \n",
       "2          0.3613                  0.08758  \n",
       "3          0.6638                  0.17300  \n",
       "4          0.2364                  0.07678  \n",
       "\n",
       "[5 rows x 32 columns]"
      ]
     },
     "execution_count": 2,
     "metadata": {},
     "output_type": "execute_result"
    }
   ],
   "source": [
    "# read in the data and check the first 5 rows\n",
    "df = pd.read_csv('../input/breast-cancer-dataset/breast-cancer.csv')\n",
    "df.head()"
   ]
  },
  {
   "cell_type": "code",
   "execution_count": 3,
   "id": "105de7e9",
   "metadata": {
    "execution": {
     "iopub.execute_input": "2022-08-10T05:01:20.573511Z",
     "iopub.status.busy": "2022-08-10T05:01:20.572825Z",
     "iopub.status.idle": "2022-08-10T05:01:20.583493Z",
     "shell.execute_reply": "2022-08-10T05:01:20.582089Z"
    },
    "id": "0d18331c",
    "outputId": "9fba3215-6a5e-4d02-a82c-9f10dd6c2630",
    "papermill": {
     "duration": 0.023484,
     "end_time": "2022-08-10T05:01:20.586180",
     "exception": false,
     "start_time": "2022-08-10T05:01:20.562696",
     "status": "completed"
    },
    "tags": []
   },
   "outputs": [
    {
     "data": {
      "text/plain": [
       "id                         0\n",
       "diagnosis                  0\n",
       "radius_mean                0\n",
       "texture_mean               0\n",
       "perimeter_mean             0\n",
       "area_mean                  0\n",
       "smoothness_mean            0\n",
       "compactness_mean           0\n",
       "concavity_mean             0\n",
       "concave points_mean        0\n",
       "symmetry_mean              0\n",
       "fractal_dimension_mean     0\n",
       "radius_se                  0\n",
       "texture_se                 0\n",
       "perimeter_se               0\n",
       "area_se                    0\n",
       "smoothness_se              0\n",
       "compactness_se             0\n",
       "concavity_se               0\n",
       "concave points_se          0\n",
       "symmetry_se                0\n",
       "fractal_dimension_se       0\n",
       "radius_worst               0\n",
       "texture_worst              0\n",
       "perimeter_worst            0\n",
       "area_worst                 0\n",
       "smoothness_worst           0\n",
       "compactness_worst          0\n",
       "concavity_worst            0\n",
       "concave points_worst       0\n",
       "symmetry_worst             0\n",
       "fractal_dimension_worst    0\n",
       "dtype: int64"
      ]
     },
     "execution_count": 3,
     "metadata": {},
     "output_type": "execute_result"
    }
   ],
   "source": [
    "# Checking for missing values \n",
    "df.isna().sum()"
   ]
  },
  {
   "cell_type": "code",
   "execution_count": 4,
   "id": "31fdc7d8",
   "metadata": {
    "execution": {
     "iopub.execute_input": "2022-08-10T05:01:20.605459Z",
     "iopub.status.busy": "2022-08-10T05:01:20.604610Z",
     "iopub.status.idle": "2022-08-10T05:01:20.612237Z",
     "shell.execute_reply": "2022-08-10T05:01:20.610965Z"
    },
    "id": "653b1850",
    "outputId": "ff807e64-646e-4bb4-8271-a19ac5b7b317",
    "papermill": {
     "duration": 0.019891,
     "end_time": "2022-08-10T05:01:20.614761",
     "exception": false,
     "start_time": "2022-08-10T05:01:20.594870",
     "status": "completed"
    },
    "tags": []
   },
   "outputs": [
    {
     "data": {
      "text/plain": [
       "(569, 32)"
      ]
     },
     "execution_count": 4,
     "metadata": {},
     "output_type": "execute_result"
    }
   ],
   "source": [
    "df.shape"
   ]
  },
  {
   "cell_type": "code",
   "execution_count": 5,
   "id": "b1c539f4",
   "metadata": {
    "execution": {
     "iopub.execute_input": "2022-08-10T05:01:20.635526Z",
     "iopub.status.busy": "2022-08-10T05:01:20.634265Z",
     "iopub.status.idle": "2022-08-10T05:01:20.645615Z",
     "shell.execute_reply": "2022-08-10T05:01:20.644612Z"
    },
    "id": "81052820",
    "papermill": {
     "duration": 0.024077,
     "end_time": "2022-08-10T05:01:20.648282",
     "exception": false,
     "start_time": "2022-08-10T05:01:20.624205",
     "status": "completed"
    },
    "tags": []
   },
   "outputs": [],
   "source": [
    "df.dropna(axis=1, inplace=True)"
   ]
  },
  {
   "cell_type": "code",
   "execution_count": 6,
   "id": "e90a555f",
   "metadata": {
    "execution": {
     "iopub.execute_input": "2022-08-10T05:01:20.668752Z",
     "iopub.status.busy": "2022-08-10T05:01:20.667946Z",
     "iopub.status.idle": "2022-08-10T05:01:20.684273Z",
     "shell.execute_reply": "2022-08-10T05:01:20.683034Z"
    },
    "id": "c1d41bf9",
    "outputId": "c6cf7fd0-d282-4f39-fc7d-db361b8b7917",
    "papermill": {
     "duration": 0.029083,
     "end_time": "2022-08-10T05:01:20.686574",
     "exception": false,
     "start_time": "2022-08-10T05:01:20.657491",
     "status": "completed"
    },
    "tags": []
   },
   "outputs": [
    {
     "data": {
      "text/plain": [
       "B    357\n",
       "M    212\n",
       "Name: diagnosis, dtype: int64"
      ]
     },
     "execution_count": 6,
     "metadata": {},
     "output_type": "execute_result"
    }
   ],
   "source": [
    "df['diagnosis'].value_counts()"
   ]
  },
  {
   "cell_type": "code",
   "execution_count": 7,
   "id": "9bf9761c",
   "metadata": {
    "execution": {
     "iopub.execute_input": "2022-08-10T05:01:20.706547Z",
     "iopub.status.busy": "2022-08-10T05:01:20.705636Z",
     "iopub.status.idle": "2022-08-10T05:01:20.871963Z",
     "shell.execute_reply": "2022-08-10T05:01:20.870638Z"
    },
    "id": "87b1f553",
    "papermill": {
     "duration": 0.179035,
     "end_time": "2022-08-10T05:01:20.874709",
     "exception": false,
     "start_time": "2022-08-10T05:01:20.695674",
     "status": "completed"
    },
    "tags": []
   },
   "outputs": [],
   "source": [
    "# Normalizing the labels\n",
    "from sklearn.preprocessing import LabelEncoder\n",
    "labelencoder = LabelEncoder()\n",
    "df.iloc[:,1] = labelencoder.fit_transform(df.iloc[:,1].values)"
   ]
  },
  {
   "cell_type": "code",
   "execution_count": 8,
   "id": "c86aa7bc",
   "metadata": {
    "execution": {
     "iopub.execute_input": "2022-08-10T05:01:20.893611Z",
     "iopub.status.busy": "2022-08-10T05:01:20.893201Z",
     "iopub.status.idle": "2022-08-10T05:01:20.921475Z",
     "shell.execute_reply": "2022-08-10T05:01:20.920281Z"
    },
    "id": "25a7bfe9",
    "outputId": "e318892b-999f-4adb-f807-d9dbf217fac9",
    "papermill": {
     "duration": 0.040311,
     "end_time": "2022-08-10T05:01:20.923721",
     "exception": false,
     "start_time": "2022-08-10T05:01:20.883410",
     "status": "completed"
    },
    "tags": []
   },
   "outputs": [
    {
     "data": {
      "text/html": [
       "<div>\n",
       "<style scoped>\n",
       "    .dataframe tbody tr th:only-of-type {\n",
       "        vertical-align: middle;\n",
       "    }\n",
       "\n",
       "    .dataframe tbody tr th {\n",
       "        vertical-align: top;\n",
       "    }\n",
       "\n",
       "    .dataframe thead th {\n",
       "        text-align: right;\n",
       "    }\n",
       "</style>\n",
       "<table border=\"1\" class=\"dataframe\">\n",
       "  <thead>\n",
       "    <tr style=\"text-align: right;\">\n",
       "      <th></th>\n",
       "      <th>id</th>\n",
       "      <th>diagnosis</th>\n",
       "      <th>radius_mean</th>\n",
       "      <th>texture_mean</th>\n",
       "      <th>perimeter_mean</th>\n",
       "      <th>area_mean</th>\n",
       "      <th>smoothness_mean</th>\n",
       "      <th>compactness_mean</th>\n",
       "      <th>concavity_mean</th>\n",
       "      <th>concave points_mean</th>\n",
       "      <th>...</th>\n",
       "      <th>radius_worst</th>\n",
       "      <th>texture_worst</th>\n",
       "      <th>perimeter_worst</th>\n",
       "      <th>area_worst</th>\n",
       "      <th>smoothness_worst</th>\n",
       "      <th>compactness_worst</th>\n",
       "      <th>concavity_worst</th>\n",
       "      <th>concave points_worst</th>\n",
       "      <th>symmetry_worst</th>\n",
       "      <th>fractal_dimension_worst</th>\n",
       "    </tr>\n",
       "  </thead>\n",
       "  <tbody>\n",
       "    <tr>\n",
       "      <th>0</th>\n",
       "      <td>842302</td>\n",
       "      <td>1</td>\n",
       "      <td>17.99</td>\n",
       "      <td>10.38</td>\n",
       "      <td>122.80</td>\n",
       "      <td>1001.0</td>\n",
       "      <td>0.11840</td>\n",
       "      <td>0.27760</td>\n",
       "      <td>0.3001</td>\n",
       "      <td>0.14710</td>\n",
       "      <td>...</td>\n",
       "      <td>25.38</td>\n",
       "      <td>17.33</td>\n",
       "      <td>184.60</td>\n",
       "      <td>2019.0</td>\n",
       "      <td>0.1622</td>\n",
       "      <td>0.6656</td>\n",
       "      <td>0.7119</td>\n",
       "      <td>0.2654</td>\n",
       "      <td>0.4601</td>\n",
       "      <td>0.11890</td>\n",
       "    </tr>\n",
       "    <tr>\n",
       "      <th>1</th>\n",
       "      <td>842517</td>\n",
       "      <td>1</td>\n",
       "      <td>20.57</td>\n",
       "      <td>17.77</td>\n",
       "      <td>132.90</td>\n",
       "      <td>1326.0</td>\n",
       "      <td>0.08474</td>\n",
       "      <td>0.07864</td>\n",
       "      <td>0.0869</td>\n",
       "      <td>0.07017</td>\n",
       "      <td>...</td>\n",
       "      <td>24.99</td>\n",
       "      <td>23.41</td>\n",
       "      <td>158.80</td>\n",
       "      <td>1956.0</td>\n",
       "      <td>0.1238</td>\n",
       "      <td>0.1866</td>\n",
       "      <td>0.2416</td>\n",
       "      <td>0.1860</td>\n",
       "      <td>0.2750</td>\n",
       "      <td>0.08902</td>\n",
       "    </tr>\n",
       "    <tr>\n",
       "      <th>2</th>\n",
       "      <td>84300903</td>\n",
       "      <td>1</td>\n",
       "      <td>19.69</td>\n",
       "      <td>21.25</td>\n",
       "      <td>130.00</td>\n",
       "      <td>1203.0</td>\n",
       "      <td>0.10960</td>\n",
       "      <td>0.15990</td>\n",
       "      <td>0.1974</td>\n",
       "      <td>0.12790</td>\n",
       "      <td>...</td>\n",
       "      <td>23.57</td>\n",
       "      <td>25.53</td>\n",
       "      <td>152.50</td>\n",
       "      <td>1709.0</td>\n",
       "      <td>0.1444</td>\n",
       "      <td>0.4245</td>\n",
       "      <td>0.4504</td>\n",
       "      <td>0.2430</td>\n",
       "      <td>0.3613</td>\n",
       "      <td>0.08758</td>\n",
       "    </tr>\n",
       "    <tr>\n",
       "      <th>3</th>\n",
       "      <td>84348301</td>\n",
       "      <td>1</td>\n",
       "      <td>11.42</td>\n",
       "      <td>20.38</td>\n",
       "      <td>77.58</td>\n",
       "      <td>386.1</td>\n",
       "      <td>0.14250</td>\n",
       "      <td>0.28390</td>\n",
       "      <td>0.2414</td>\n",
       "      <td>0.10520</td>\n",
       "      <td>...</td>\n",
       "      <td>14.91</td>\n",
       "      <td>26.50</td>\n",
       "      <td>98.87</td>\n",
       "      <td>567.7</td>\n",
       "      <td>0.2098</td>\n",
       "      <td>0.8663</td>\n",
       "      <td>0.6869</td>\n",
       "      <td>0.2575</td>\n",
       "      <td>0.6638</td>\n",
       "      <td>0.17300</td>\n",
       "    </tr>\n",
       "    <tr>\n",
       "      <th>4</th>\n",
       "      <td>84358402</td>\n",
       "      <td>1</td>\n",
       "      <td>20.29</td>\n",
       "      <td>14.34</td>\n",
       "      <td>135.10</td>\n",
       "      <td>1297.0</td>\n",
       "      <td>0.10030</td>\n",
       "      <td>0.13280</td>\n",
       "      <td>0.1980</td>\n",
       "      <td>0.10430</td>\n",
       "      <td>...</td>\n",
       "      <td>22.54</td>\n",
       "      <td>16.67</td>\n",
       "      <td>152.20</td>\n",
       "      <td>1575.0</td>\n",
       "      <td>0.1374</td>\n",
       "      <td>0.2050</td>\n",
       "      <td>0.4000</td>\n",
       "      <td>0.1625</td>\n",
       "      <td>0.2364</td>\n",
       "      <td>0.07678</td>\n",
       "    </tr>\n",
       "  </tbody>\n",
       "</table>\n",
       "<p>5 rows × 32 columns</p>\n",
       "</div>"
      ],
      "text/plain": [
       "         id  diagnosis  radius_mean  texture_mean  perimeter_mean  area_mean  \\\n",
       "0    842302          1        17.99         10.38          122.80     1001.0   \n",
       "1    842517          1        20.57         17.77          132.90     1326.0   \n",
       "2  84300903          1        19.69         21.25          130.00     1203.0   \n",
       "3  84348301          1        11.42         20.38           77.58      386.1   \n",
       "4  84358402          1        20.29         14.34          135.10     1297.0   \n",
       "\n",
       "   smoothness_mean  compactness_mean  concavity_mean  concave points_mean  \\\n",
       "0          0.11840           0.27760          0.3001              0.14710   \n",
       "1          0.08474           0.07864          0.0869              0.07017   \n",
       "2          0.10960           0.15990          0.1974              0.12790   \n",
       "3          0.14250           0.28390          0.2414              0.10520   \n",
       "4          0.10030           0.13280          0.1980              0.10430   \n",
       "\n",
       "   ...  radius_worst  texture_worst  perimeter_worst  area_worst  \\\n",
       "0  ...         25.38          17.33           184.60      2019.0   \n",
       "1  ...         24.99          23.41           158.80      1956.0   \n",
       "2  ...         23.57          25.53           152.50      1709.0   \n",
       "3  ...         14.91          26.50            98.87       567.7   \n",
       "4  ...         22.54          16.67           152.20      1575.0   \n",
       "\n",
       "   smoothness_worst  compactness_worst  concavity_worst  concave points_worst  \\\n",
       "0            0.1622             0.6656           0.7119                0.2654   \n",
       "1            0.1238             0.1866           0.2416                0.1860   \n",
       "2            0.1444             0.4245           0.4504                0.2430   \n",
       "3            0.2098             0.8663           0.6869                0.2575   \n",
       "4            0.1374             0.2050           0.4000                0.1625   \n",
       "\n",
       "   symmetry_worst  fractal_dimension_worst  \n",
       "0          0.4601                  0.11890  \n",
       "1          0.2750                  0.08902  \n",
       "2          0.3613                  0.08758  \n",
       "3          0.6638                  0.17300  \n",
       "4          0.2364                  0.07678  \n",
       "\n",
       "[5 rows x 32 columns]"
      ]
     },
     "execution_count": 8,
     "metadata": {},
     "output_type": "execute_result"
    }
   ],
   "source": [
    "df.head()"
   ]
  },
  {
   "cell_type": "code",
   "execution_count": 9,
   "id": "5211953e",
   "metadata": {
    "execution": {
     "iopub.execute_input": "2022-08-10T05:01:20.944015Z",
     "iopub.status.busy": "2022-08-10T05:01:20.942994Z",
     "iopub.status.idle": "2022-08-10T05:01:20.949037Z",
     "shell.execute_reply": "2022-08-10T05:01:20.947815Z"
    },
    "id": "fac29ec4",
    "papermill": {
     "duration": 0.01919,
     "end_time": "2022-08-10T05:01:20.951885",
     "exception": false,
     "start_time": "2022-08-10T05:01:20.932695",
     "status": "completed"
    },
    "tags": []
   },
   "outputs": [],
   "source": [
    "X = df.iloc[:,2:].values\n",
    "y = df.iloc[:,1].values"
   ]
  },
  {
   "cell_type": "code",
   "execution_count": 10,
   "id": "e486a2ec",
   "metadata": {
    "execution": {
     "iopub.execute_input": "2022-08-10T05:01:20.973358Z",
     "iopub.status.busy": "2022-08-10T05:01:20.972661Z",
     "iopub.status.idle": "2022-08-10T05:01:21.040311Z",
     "shell.execute_reply": "2022-08-10T05:01:21.039353Z"
    },
    "id": "57cc4bee",
    "papermill": {
     "duration": 0.081509,
     "end_time": "2022-08-10T05:01:21.043087",
     "exception": false,
     "start_time": "2022-08-10T05:01:20.961578",
     "status": "completed"
    },
    "tags": []
   },
   "outputs": [],
   "source": [
    "from sklearn.model_selection import train_test_split\n",
    "X_train, X_test, y_train, y_test = train_test_split(X, y, test_size=0.40)"
   ]
  },
  {
   "cell_type": "code",
   "execution_count": 11,
   "id": "686405f7",
   "metadata": {
    "execution": {
     "iopub.execute_input": "2022-08-10T05:01:21.062928Z",
     "iopub.status.busy": "2022-08-10T05:01:21.062481Z",
     "iopub.status.idle": "2022-08-10T05:01:21.070574Z",
     "shell.execute_reply": "2022-08-10T05:01:21.069624Z"
    },
    "id": "7abeddcd",
    "papermill": {
     "duration": 0.020685,
     "end_time": "2022-08-10T05:01:21.072868",
     "exception": false,
     "start_time": "2022-08-10T05:01:21.052183",
     "status": "completed"
    },
    "tags": []
   },
   "outputs": [],
   "source": [
    "from sklearn.preprocessing import StandardScaler\n",
    "sc = StandardScaler()\n",
    "X_train = sc.fit_transform(X_train)\n",
    "X_test = sc.fit_transform(X_test)"
   ]
  },
  {
   "cell_type": "code",
   "execution_count": 12,
   "id": "f0413d04",
   "metadata": {
    "execution": {
     "iopub.execute_input": "2022-08-10T05:01:21.094245Z",
     "iopub.status.busy": "2022-08-10T05:01:21.093074Z",
     "iopub.status.idle": "2022-08-10T05:01:21.101655Z",
     "shell.execute_reply": "2022-08-10T05:01:21.100161Z"
    },
    "id": "706bdaa8",
    "outputId": "890188bd-b88a-4487-8c01-e7d14a45b59c",
    "papermill": {
     "duration": 0.021999,
     "end_time": "2022-08-10T05:01:21.103949",
     "exception": false,
     "start_time": "2022-08-10T05:01:21.081950",
     "status": "completed"
    },
    "tags": []
   },
   "outputs": [
    {
     "data": {
      "text/plain": [
       "array([[-0.24972485, -1.00738316, -0.30659508, ..., -0.23272538,\n",
       "        -1.4021895 , -1.18480299],\n",
       "       [-0.76349378, -0.10876491, -0.79007792, ..., -0.78909598,\n",
       "         0.60541194, -0.7289305 ],\n",
       "       [ 3.40830993, -0.39929562,  3.48747286, ...,  2.41056213,\n",
       "         1.20816327,  0.24817452],\n",
       "       ...,\n",
       "       [-0.53449962, -0.75063509, -0.55724276, ..., -1.0151686 ,\n",
       "        -0.68799196, -1.12987859],\n",
       "       [-0.05302474, -1.36547915, -0.07036706, ..., -0.21163932,\n",
       "        -1.19342407, -0.60974456],\n",
       "       [ 0.20239181, -1.02089622,  0.11411981, ..., -0.54223853,\n",
       "        -0.92030237, -1.2199546 ]])"
      ]
     },
     "execution_count": 12,
     "metadata": {},
     "output_type": "execute_result"
    }
   ],
   "source": [
    "X_train"
   ]
  },
  {
   "cell_type": "code",
   "execution_count": 13,
   "id": "0867ece1",
   "metadata": {
    "execution": {
     "iopub.execute_input": "2022-08-10T05:01:21.125021Z",
     "iopub.status.busy": "2022-08-10T05:01:21.124624Z",
     "iopub.status.idle": "2022-08-10T05:01:21.279914Z",
     "shell.execute_reply": "2022-08-10T05:01:21.277994Z"
    },
    "id": "a3073b78",
    "outputId": "a75a63e1-630f-40b9-cdec-0e5fdfd9610b",
    "papermill": {
     "duration": 0.1712,
     "end_time": "2022-08-10T05:01:21.284486",
     "exception": false,
     "start_time": "2022-08-10T05:01:21.113286",
     "status": "completed"
    },
    "tags": []
   },
   "outputs": [
    {
     "data": {
      "text/plain": [
       "LogisticRegression()"
      ]
     },
     "execution_count": 13,
     "metadata": {},
     "output_type": "execute_result"
    }
   ],
   "source": [
    "from sklearn.linear_model import LogisticRegression\n",
    "classifer = LogisticRegression()\n",
    "classifer.fit(X_train, y_train)"
   ]
  },
  {
   "cell_type": "code",
   "execution_count": 14,
   "id": "be8ab6e7",
   "metadata": {
    "execution": {
     "iopub.execute_input": "2022-08-10T05:01:21.372566Z",
     "iopub.status.busy": "2022-08-10T05:01:21.371699Z",
     "iopub.status.idle": "2022-08-10T05:01:21.379206Z",
     "shell.execute_reply": "2022-08-10T05:01:21.378074Z"
    },
    "id": "f91c607f",
    "papermill": {
     "duration": 0.042774,
     "end_time": "2022-08-10T05:01:21.382949",
     "exception": false,
     "start_time": "2022-08-10T05:01:21.340175",
     "status": "completed"
    },
    "tags": []
   },
   "outputs": [],
   "source": [
    "predictions  = classifer.predict(X_test)"
   ]
  },
  {
   "cell_type": "code",
   "execution_count": 15,
   "id": "fad5449c",
   "metadata": {
    "execution": {
     "iopub.execute_input": "2022-08-10T05:01:21.404356Z",
     "iopub.status.busy": "2022-08-10T05:01:21.403024Z",
     "iopub.status.idle": "2022-08-10T05:01:21.665649Z",
     "shell.execute_reply": "2022-08-10T05:01:21.664333Z"
    },
    "id": "60e419f8",
    "outputId": "6955d51e-ad44-4e05-dfc3-4c37d8e1268c",
    "papermill": {
     "duration": 0.275649,
     "end_time": "2022-08-10T05:01:21.668085",
     "exception": false,
     "start_time": "2022-08-10T05:01:21.392436",
     "status": "completed"
    },
    "tags": []
   },
   "outputs": [
    {
     "name": "stdout",
     "output_type": "stream",
     "text": [
      "[[136   2]\n",
      " [  5  85]]\n"
     ]
    },
    {
     "data": {
      "text/plain": [
       "<AxesSubplot:>"
      ]
     },
     "execution_count": 15,
     "metadata": {},
     "output_type": "execute_result"
    },
    {
     "data": {
      "image/png": "[encoded data removed]",
      "text/plain": [
       "<Figure size 432x288 with 2 Axes>"
      ]
     },
     "metadata": {
      "needs_background": "light"
     },
     "output_type": "display_data"
    }
   ],
   "source": [
    "from sklearn.metrics import confusion_matrix\n",
    "cm = confusion_matrix(y_test, predictions)\n",
    "print(cm)\n",
    "sns.heatmap(cm, annot=True)"
   ]
  },
  {
   "cell_type": "code",
   "execution_count": 16,
   "id": "4ea6bfe8",
   "metadata": {
    "execution": {
     "iopub.execute_input": "2022-08-10T05:01:21.689224Z",
     "iopub.status.busy": "2022-08-10T05:01:21.688816Z",
     "iopub.status.idle": "2022-08-10T05:01:21.694721Z",
     "shell.execute_reply": "2022-08-10T05:01:21.693771Z"
    },
    "id": "ae77c507",
    "outputId": "01338b36-e0ff-487b-8aeb-e86931fbc193",
    "papermill": {
     "duration": 0.018991,
     "end_time": "2022-08-10T05:01:21.696704",
     "exception": false,
     "start_time": "2022-08-10T05:01:21.677713",
     "status": "completed"
    },
    "tags": []
   },
   "outputs": [
    {
     "name": "stdout",
     "output_type": "stream",
     "text": [
      "0.9692982456140351\n"
     ]
    }
   ],
   "source": [
    "from sklearn.metrics import accuracy_score\n",
    "print(accuracy_score(y_test,predictions))"
   ]
  },
  {
   "cell_type": "markdown",
   "id": "162dba80",
   "metadata": {
    "id": "3deb758a",
    "papermill": {
     "duration": 0.009341,
     "end_time": "2022-08-10T05:01:21.715904",
     "exception": false,
     "start_time": "2022-08-10T05:01:21.706563",
     "status": "completed"
    },
    "tags": []
   },
   "source": [
    "#### 1. Demonstrate the Logistic Regression for different penalties/regularisation methods - none, l1, l2 (you may use 'saga' solver as the parameter)"
   ]
  },
  {
   "cell_type": "code",
   "execution_count": 17,
   "id": "e151fc01",
   "metadata": {
    "execution": {
     "iopub.execute_input": "2022-08-10T05:01:21.737460Z",
     "iopub.status.busy": "2022-08-10T05:01:21.736654Z",
     "iopub.status.idle": "2022-08-10T05:01:21.768413Z",
     "shell.execute_reply": "2022-08-10T05:01:21.766952Z"
    },
    "id": "c3d2de2f",
    "outputId": "03627fa6-1012-41f0-cdf9-7559bc4ffddc",
    "papermill": {
     "duration": 0.0453,
     "end_time": "2022-08-10T05:01:21.770949",
     "exception": false,
     "start_time": "2022-08-10T05:01:21.725649",
     "status": "completed"
    },
    "tags": []
   },
   "outputs": [
    {
     "name": "stdout",
     "output_type": "stream",
     "text": [
      "0.9649122807017544\n"
     ]
    },
    {
     "name": "stderr",
     "output_type": "stream",
     "text": [
      "/opt/conda/lib/python3.7/site-packages/sklearn/linear_model/_sag.py:354: ConvergenceWarning: The max_iter was reached which means the coef_ did not converge\n",
      "  ConvergenceWarning,\n"
     ]
    }
   ],
   "source": [
    "from sklearn.linear_model import LogisticRegression\n",
    "classifer = LogisticRegression(penalty='l2', solver='saga')\n",
    "classifer.fit(X_train, y_train)\n",
    "predictions  = classifer.predict(X_test)\n",
    "from sklearn.metrics import accuracy_score\n",
    "print(accuracy_score(y_test,predictions))"
   ]
  },
  {
   "cell_type": "code",
   "execution_count": 18,
   "id": "b2a6c090",
   "metadata": {
    "execution": {
     "iopub.execute_input": "2022-08-10T05:01:21.792708Z",
     "iopub.status.busy": "2022-08-10T05:01:21.792037Z",
     "iopub.status.idle": "2022-08-10T05:01:21.802600Z",
     "shell.execute_reply": "2022-08-10T05:01:21.800823Z"
    },
    "id": "3fa9f9a7",
    "outputId": "5dae80aa-26be-4dff-c51b-0a9e5e0fd359",
    "papermill": {
     "duration": 0.024282,
     "end_time": "2022-08-10T05:01:21.805177",
     "exception": false,
     "start_time": "2022-08-10T05:01:21.780895",
     "status": "completed"
    },
    "tags": []
   },
   "outputs": [
    {
     "name": "stdout",
     "output_type": "stream",
     "text": [
      "0.9517543859649122\n"
     ]
    },
    {
     "name": "stderr",
     "output_type": "stream",
     "text": [
      "/opt/conda/lib/python3.7/site-packages/sklearn/linear_model/_sag.py:354: ConvergenceWarning: The max_iter was reached which means the coef_ did not converge\n",
      "  ConvergenceWarning,\n"
     ]
    }
   ],
   "source": [
    "from sklearn.linear_model import LogisticRegression\n",
    "classifer = LogisticRegression(penalty='l1', solver='saga',max_iter=1)\n",
    "classifer.fit(X_train, y_train)\n",
    "predictions  = classifer.predict(X_test)\n",
    "from sklearn.metrics import accuracy_score\n",
    "print(accuracy_score(y_test,predictions))"
   ]
  },
  {
   "cell_type": "code",
   "execution_count": 19,
   "id": "f000f9e1",
   "metadata": {
    "execution": {
     "iopub.execute_input": "2022-08-10T05:01:21.826673Z",
     "iopub.status.busy": "2022-08-10T05:01:21.826296Z",
     "iopub.status.idle": "2022-08-10T05:01:21.837389Z",
     "shell.execute_reply": "2022-08-10T05:01:21.835666Z"
    },
    "id": "f4b7b7b0",
    "outputId": "7e6553aa-abd5-4306-cb7a-49d195742250",
    "papermill": {
     "duration": 0.025251,
     "end_time": "2022-08-10T05:01:21.840427",
     "exception": false,
     "start_time": "2022-08-10T05:01:21.815176",
     "status": "completed"
    },
    "tags": []
   },
   "outputs": [
    {
     "name": "stdout",
     "output_type": "stream",
     "text": [
      "0.9342105263157895\n"
     ]
    },
    {
     "name": "stderr",
     "output_type": "stream",
     "text": [
      "/opt/conda/lib/python3.7/site-packages/sklearn/linear_model/_sag.py:354: ConvergenceWarning: The max_iter was reached which means the coef_ did not converge\n",
      "  ConvergenceWarning,\n"
     ]
    }
   ],
   "source": [
    "from sklearn.linear_model import LogisticRegression\n",
    "classifer = LogisticRegression(penalty='none', solver='saga', max_iter=1)\n",
    "classifer.fit(X_train, y_train)\n",
    "predictions  = classifer.predict(X_test)\n",
    "print(accuracy_score(y_test,predictions))"
   ]
  },
  {
   "cell_type": "markdown",
   "id": "d6b4f0ed",
   "metadata": {
    "id": "42b39102",
    "papermill": {
     "duration": 0.009551,
     "end_time": "2022-08-10T05:01:21.860816",
     "exception": false,
     "start_time": "2022-08-10T05:01:21.851265",
     "status": "completed"
    },
    "tags": []
   },
   "source": [
    "Inference- L2 regularization gives the highest accuracy."
   ]
  },
  {
   "cell_type": "markdown",
   "id": "7efa97b3",
   "metadata": {
    "id": "00ef463c",
    "papermill": {
     "duration": 0.009646,
     "end_time": "2022-08-10T05:01:21.880478",
     "exception": false,
     "start_time": "2022-08-10T05:01:21.870832",
     "status": "completed"
    },
    "tags": []
   },
   "source": [
    "#### 2. What happens when the Maximum Iterations are kept as 1, 2, 5, 10, 20, 50, 100, 500 and 1000? Is there any change in the accuracy?"
   ]
  },
  {
   "cell_type": "code",
   "execution_count": 20,
   "id": "ab3c919f",
   "metadata": {
    "execution": {
     "iopub.execute_input": "2022-08-10T05:01:21.903349Z",
     "iopub.status.busy": "2022-08-10T05:01:21.902660Z",
     "iopub.status.idle": "2022-08-10T05:01:22.334985Z",
     "shell.execute_reply": "2022-08-10T05:01:22.333283Z"
    },
    "id": "5d2fb164",
    "outputId": "17f2e01f-3398-45b0-b741-b6374f828310",
    "papermill": {
     "duration": 0.447219,
     "end_time": "2022-08-10T05:01:22.337616",
     "exception": false,
     "start_time": "2022-08-10T05:01:21.890397",
     "status": "completed"
    },
    "tags": []
   },
   "outputs": [
    {
     "name": "stderr",
     "output_type": "stream",
     "text": [
      "/opt/conda/lib/python3.7/site-packages/sklearn/linear_model/_sag.py:354: ConvergenceWarning: The max_iter was reached which means the coef_ did not converge\n",
      "  ConvergenceWarning,\n",
      "/opt/conda/lib/python3.7/site-packages/sklearn/linear_model/_sag.py:354: ConvergenceWarning: The max_iter was reached which means the coef_ did not converge\n",
      "  ConvergenceWarning,\n",
      "/opt/conda/lib/python3.7/site-packages/sklearn/linear_model/_sag.py:354: ConvergenceWarning: The max_iter was reached which means the coef_ did not converge\n",
      "  ConvergenceWarning,\n",
      "/opt/conda/lib/python3.7/site-packages/sklearn/linear_model/_sag.py:354: ConvergenceWarning: The max_iter was reached which means the coef_ did not converge\n",
      "  ConvergenceWarning,\n",
      "/opt/conda/lib/python3.7/site-packages/sklearn/linear_model/_sag.py:354: ConvergenceWarning: The max_iter was reached which means the coef_ did not converge\n",
      "  ConvergenceWarning,\n",
      "/opt/conda/lib/python3.7/site-packages/sklearn/linear_model/_sag.py:354: ConvergenceWarning: The max_iter was reached which means the coef_ did not converge\n",
      "  ConvergenceWarning,\n",
      "/opt/conda/lib/python3.7/site-packages/sklearn/linear_model/_sag.py:354: ConvergenceWarning: The max_iter was reached which means the coef_ did not converge\n",
      "  ConvergenceWarning,\n",
      "/opt/conda/lib/python3.7/site-packages/sklearn/linear_model/_sag.py:354: ConvergenceWarning: The max_iter was reached which means the coef_ did not converge\n",
      "  ConvergenceWarning,\n",
      "/opt/conda/lib/python3.7/site-packages/sklearn/linear_model/_sag.py:354: ConvergenceWarning: The max_iter was reached which means the coef_ did not converge\n",
      "  ConvergenceWarning,\n"
     ]
    },
    {
     "data": {
      "text/html": [
       "<div>\n",
       "<style scoped>\n",
       "    .dataframe tbody tr th:only-of-type {\n",
       "        vertical-align: middle;\n",
       "    }\n",
       "\n",
       "    .dataframe tbody tr th {\n",
       "        vertical-align: top;\n",
       "    }\n",
       "\n",
       "    .dataframe thead th {\n",
       "        text-align: right;\n",
       "    }\n",
       "</style>\n",
       "<table border=\"1\" class=\"dataframe\">\n",
       "  <thead>\n",
       "    <tr style=\"text-align: right;\">\n",
       "      <th></th>\n",
       "      <th>Max_iteration</th>\n",
       "      <th>Accuracy</th>\n",
       "      <th>Classes</th>\n",
       "      <th>Coefficient</th>\n",
       "      <th>Intercept</th>\n",
       "    </tr>\n",
       "  </thead>\n",
       "  <tbody>\n",
       "    <tr>\n",
       "      <th>0</th>\n",
       "      <td>1</td>\n",
       "      <td>0.942982</td>\n",
       "      <td>[0, 1]</td>\n",
       "      <td>[[0.25142968642731867, 0.15762190863619896, 0....</td>\n",
       "      <td>[-0.1576960343121528]</td>\n",
       "    </tr>\n",
       "    <tr>\n",
       "      <th>1</th>\n",
       "      <td>2</td>\n",
       "      <td>0.964912</td>\n",
       "      <td>[0, 1]</td>\n",
       "      <td>[[0.3147680603477605, 0.23346144003344624, 0.3...</td>\n",
       "      <td>[-0.30130458117868403]</td>\n",
       "    </tr>\n",
       "    <tr>\n",
       "      <th>2</th>\n",
       "      <td>5</td>\n",
       "      <td>0.964912</td>\n",
       "      <td>[0, 1]</td>\n",
       "      <td>[[0.3703259675978322, 0.26703685255395504, 0.3...</td>\n",
       "      <td>[-0.3796567328317808]</td>\n",
       "    </tr>\n",
       "    <tr>\n",
       "      <th>3</th>\n",
       "      <td>10</td>\n",
       "      <td>0.960526</td>\n",
       "      <td>[0, 1]</td>\n",
       "      <td>[[0.3824044085762721, 0.30664403938195745, 0.3...</td>\n",
       "      <td>[-0.4375887584210158]</td>\n",
       "    </tr>\n",
       "    <tr>\n",
       "      <th>4</th>\n",
       "      <td>20</td>\n",
       "      <td>0.960526</td>\n",
       "      <td>[0, 1]</td>\n",
       "      <td>[[0.39959261051357653, 0.3346311652850581, 0.3...</td>\n",
       "      <td>[-0.5708223774554692]</td>\n",
       "    </tr>\n",
       "    <tr>\n",
       "      <th>5</th>\n",
       "      <td>50</td>\n",
       "      <td>0.969298</td>\n",
       "      <td>[0, 1]</td>\n",
       "      <td>[[0.3662636808221485, 0.2666639418841274, 0.35...</td>\n",
       "      <td>[-0.6565591322225878]</td>\n",
       "    </tr>\n",
       "    <tr>\n",
       "      <th>6</th>\n",
       "      <td>100</td>\n",
       "      <td>0.969298</td>\n",
       "      <td>[0, 1]</td>\n",
       "      <td>[[0.2704432971363884, 0.10800534052504648, 0.2...</td>\n",
       "      <td>[-0.7063825075541651]</td>\n",
       "    </tr>\n",
       "    <tr>\n",
       "      <th>7</th>\n",
       "      <td>500</td>\n",
       "      <td>0.964912</td>\n",
       "      <td>[0, 1]</td>\n",
       "      <td>[[0.0, 0.0, 0.0, 0.0030580928905010636, 0.0, 0...</td>\n",
       "      <td>[-0.6871451138367806]</td>\n",
       "    </tr>\n",
       "    <tr>\n",
       "      <th>8</th>\n",
       "      <td>1000</td>\n",
       "      <td>0.960526</td>\n",
       "      <td>[0, 1]</td>\n",
       "      <td>[[0.0, 0.0, 0.0, 0.0, 0.0, 0.0, 0.0, 1.2170912...</td>\n",
       "      <td>[-0.7040714681660489]</td>\n",
       "    </tr>\n",
       "  </tbody>\n",
       "</table>\n",
       "</div>"
      ],
      "text/plain": [
       "   Max_iteration  Accuracy Classes  \\\n",
       "0              1  0.942982  [0, 1]   \n",
       "1              2  0.964912  [0, 1]   \n",
       "2              5  0.964912  [0, 1]   \n",
       "3             10  0.960526  [0, 1]   \n",
       "4             20  0.960526  [0, 1]   \n",
       "5             50  0.969298  [0, 1]   \n",
       "6            100  0.969298  [0, 1]   \n",
       "7            500  0.964912  [0, 1]   \n",
       "8           1000  0.960526  [0, 1]   \n",
       "\n",
       "                                         Coefficient               Intercept  \n",
       "0  [[0.25142968642731867, 0.15762190863619896, 0....   [-0.1576960343121528]  \n",
       "1  [[0.3147680603477605, 0.23346144003344624, 0.3...  [-0.30130458117868403]  \n",
       "2  [[0.3703259675978322, 0.26703685255395504, 0.3...   [-0.3796567328317808]  \n",
       "3  [[0.3824044085762721, 0.30664403938195745, 0.3...   [-0.4375887584210158]  \n",
       "4  [[0.39959261051357653, 0.3346311652850581, 0.3...   [-0.5708223774554692]  \n",
       "5  [[0.3662636808221485, 0.2666639418841274, 0.35...   [-0.6565591322225878]  \n",
       "6  [[0.2704432971363884, 0.10800534052504648, 0.2...   [-0.7063825075541651]  \n",
       "7  [[0.0, 0.0, 0.0, 0.0030580928905010636, 0.0, 0...   [-0.6871451138367806]  \n",
       "8  [[0.0, 0.0, 0.0, 0.0, 0.0, 0.0, 0.0, 1.2170912...   [-0.7040714681660489]  "
      ]
     },
     "execution_count": 20,
     "metadata": {},
     "output_type": "execute_result"
    }
   ],
   "source": [
    "from sklearn.linear_model import LogisticRegression\n",
    "from sklearn.metrics import accuracy_score\n",
    "\n",
    "li_iter =[1,2,5,10,20,50,100,500,1000] \n",
    "accu_df = pd.DataFrame()\n",
    "accu_df['Max_iteration'] = [1,2,5,10,20,50,100,500,1000]\n",
    "li2 = []\n",
    "li3 = []\n",
    "li4 = []\n",
    "li5 = []\n",
    "\n",
    "j = 1\n",
    "for i in li_iter:\n",
    "    classifer = LogisticRegression(penalty = 'l1', max_iter=i, solver = 'saga')\n",
    "    classifer.fit(X_train, y_train)\n",
    "    predictions  = classifer.predict(X_test)\n",
    "    li2.append(accuracy_score(y_test,predictions))\n",
    "    li3.append(classifer.classes_)\n",
    "    li4.append(classifer.coef_)\n",
    "    li5.append(classifer.intercept_)\n",
    "    j += 1\n",
    "\n",
    "accu_df['Accuracy'] = li2\n",
    "accu_df['Classes'] = li3\n",
    "accu_df[\"Coefficient\"] = li4\n",
    "accu_df[\"Intercept\"] = li5\n",
    "\n",
    "accu_df\n",
    "    "
   ]
  },
  {
   "cell_type": "markdown",
   "id": "8dfe1d37",
   "metadata": {
    "id": "67d52f1a",
    "papermill": {
     "duration": 0.01019,
     "end_time": "2022-08-10T05:01:22.358708",
     "exception": false,
     "start_time": "2022-08-10T05:01:22.348518",
     "status": "completed"
    },
    "tags": []
   },
   "source": [
    "#### 3. Get the attributes: classes_, coef_ and intercept_ and print the same in the above case.\n"
   ]
  },
  {
   "cell_type": "code",
   "execution_count": 21,
   "id": "e7e005bb",
   "metadata": {
    "execution": {
     "iopub.execute_input": "2022-08-10T05:01:22.381527Z",
     "iopub.status.busy": "2022-08-10T05:01:22.381101Z",
     "iopub.status.idle": "2022-08-10T05:01:22.387997Z",
     "shell.execute_reply": "2022-08-10T05:01:22.387014Z"
    },
    "id": "6ddb6fcb",
    "outputId": "81ba0f3e-6741-4951-97f4-46556881ed37",
    "papermill": {
     "duration": 0.021006,
     "end_time": "2022-08-10T05:01:22.390240",
     "exception": false,
     "start_time": "2022-08-10T05:01:22.369234",
     "status": "completed"
    },
    "tags": []
   },
   "outputs": [
    {
     "data": {
      "text/plain": [
       "array([0, 1])"
      ]
     },
     "execution_count": 21,
     "metadata": {},
     "output_type": "execute_result"
    }
   ],
   "source": [
    "classifer.classes_"
   ]
  },
  {
   "cell_type": "code",
   "execution_count": 22,
   "id": "b0489f76",
   "metadata": {
    "execution": {
     "iopub.execute_input": "2022-08-10T05:01:22.413280Z",
     "iopub.status.busy": "2022-08-10T05:01:22.412884Z",
     "iopub.status.idle": "2022-08-10T05:01:22.419782Z",
     "shell.execute_reply": "2022-08-10T05:01:22.418969Z"
    },
    "id": "26dc0e29",
    "outputId": "86ddf197-cd44-4d6b-b14d-2056406ca443",
    "papermill": {
     "duration": 0.020936,
     "end_time": "2022-08-10T05:01:22.421754",
     "exception": false,
     "start_time": "2022-08-10T05:01:22.400818",
     "status": "completed"
    },
    "tags": []
   },
   "outputs": [
    {
     "data": {
      "text/plain": [
       "array([[ 0.        ,  0.        ,  0.        ,  0.        ,  0.        ,\n",
       "         0.        ,  0.        ,  1.21709129,  0.        ,  0.        ,\n",
       "         1.37027697,  0.        ,  0.        ,  0.25227735, -0.59236223,\n",
       "        -0.44037553,  0.        ,  0.        ,  0.        , -0.1609274 ,\n",
       "         1.42465025,  1.34620485,  0.53285039,  1.30352331,  0.64091256,\n",
       "         0.        ,  0.47387559,  1.6984266 ,  0.36948491,  0.        ]])"
      ]
     },
     "execution_count": 22,
     "metadata": {},
     "output_type": "execute_result"
    }
   ],
   "source": [
    "classifer.coef_"
   ]
  },
  {
   "cell_type": "code",
   "execution_count": 23,
   "id": "ec4df378",
   "metadata": {
    "execution": {
     "iopub.execute_input": "2022-08-10T05:01:22.445357Z",
     "iopub.status.busy": "2022-08-10T05:01:22.444545Z",
     "iopub.status.idle": "2022-08-10T05:01:22.452412Z",
     "shell.execute_reply": "2022-08-10T05:01:22.451477Z"
    },
    "id": "5ce7948b",
    "outputId": "89e41448-863d-4a4b-a062-4de934929ae0",
    "papermill": {
     "duration": 0.022813,
     "end_time": "2022-08-10T05:01:22.455107",
     "exception": false,
     "start_time": "2022-08-10T05:01:22.432294",
     "status": "completed"
    },
    "tags": []
   },
   "outputs": [
    {
     "data": {
      "text/plain": [
       "array([-0.70407147])"
      ]
     },
     "execution_count": 23,
     "metadata": {},
     "output_type": "execute_result"
    }
   ],
   "source": [
    "classifer.intercept_"
   ]
  },
  {
   "cell_type": "markdown",
   "id": "8407bb95",
   "metadata": {
    "id": "e66b5d43",
    "papermill": {
     "duration": 0.010593,
     "end_time": "2022-08-10T05:01:22.476944",
     "exception": false,
     "start_time": "2022-08-10T05:01:22.466351",
     "status": "completed"
    },
    "tags": []
   },
   "source": [
    "<hr/>"
   ]
  },
  {
   "cell_type": "markdown",
   "id": "6426c3bb",
   "metadata": {
    "id": "66cac78f",
    "papermill": {
     "duration": 0.01051,
     "end_time": "2022-08-10T05:01:22.498289",
     "exception": false,
     "start_time": "2022-08-10T05:01:22.487779",
     "status": "completed"
    },
    "tags": []
   },
   "source": [
    "## Conclusion/Results"
   ]
  },
  {
   "cell_type": "markdown",
   "id": "1cdbeb6b",
   "metadata": {
    "id": "de0e0938",
    "papermill": {
     "duration": 0.010656,
     "end_time": "2022-08-10T05:01:22.519949",
     "exception": false,
     "start_time": "2022-08-10T05:01:22.509293",
     "status": "completed"
    },
    "tags": []
   },
   "source": [
    "In this lab, I succesfully learned how to implement Logistic Regression using Machine Learing concepts. \n",
    "The accuracy of the model varies with the maximum iterations values and the regularization method that we use."
   ]
  }
 ],
 "metadata": {
  "kernelspec": {
   "display_name": "Python 3",
   "language": "python",
   "name": "python3"
  },
  "language_info": {
   "codemirror_mode": {
    "name": "ipython",
    "version": 3
   },
   "file_extension": ".py",
   "mimetype": "text/x-python",
   "name": "python",
   "nbconvert_exporter": "python",
   "pygments_lexer": "ipython3",
   "version": "3.7.12"
  },
  "papermill": {
   "default_parameters": {},
   "duration": 13.511552,
   "end_time": "2022-08-10T05:01:23.253245",
   "environment_variables": {},
   "exception": null,
   "input_path": "__notebook__.ipynb",
   "output_path": "__notebook__.ipynb",
   "parameters": {},
   "start_time": "2022-08-10T05:01:09.741693",
   "version": "2.3.4"
  }
 },
 "nbformat": 4,
 "nbformat_minor": 5
}
