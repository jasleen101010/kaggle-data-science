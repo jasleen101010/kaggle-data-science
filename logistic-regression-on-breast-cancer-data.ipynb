{
 "cells": [
  {
   "cell_type": "markdown",
   "id": "7e110757",
   "metadata": {
    "id": "a938b8b5",
    "papermill": {
     "duration": 0.008773,
     "end_time": "2022-08-10T05:01:59.611925",
     "exception": false,
     "start_time": "2022-08-10T05:01:59.603152",
     "status": "completed"
    },
    "tags": []
   },
   "source": [
    " # **Logistic Regression**\n",
    "<hr/>\n",
    "\n",
    "Submitted by <br>\n",
    "**Jasleen Kaur Sondhi** <br>\n",
    "\n",
    "<hr>\n",
    "\n"
   ]
  },
  {
   "cell_type": "markdown",
   "id": "184a385f",
   "metadata": {
    "id": "d83a9fa1",
    "papermill": {
     "duration": 0.007204,
     "end_time": "2022-08-10T05:01:59.626729",
     "exception": false,
     "start_time": "2022-08-10T05:01:59.619525",
     "status": "completed"
    },
    "tags": []
   },
   "source": [
    "## Lab Overview  \n",
    "### Objectives\n",
    "\n",
    "In this lab, we will learn how to perform logistic regression on breast cancer .\n",
    "\n",
    "We will do the following-\n",
    "\n",
    "1. Demonstrate the Logistic Regression for different penalties/regularisation methods - none, l1, l2 (you may use 'saga' solver as the parameter)\n",
    "2. What happens when the Maximum Iterations are kept as 1, 2, 5, 10, 20, 50, 100, 500 and 1000? Is there any change in the accuracy.\n",
    "3. Get the attributes: classes_, coef_ and intercept_ and print the same in the above case.\n"
   ]
  },
  {
   "cell_type": "markdown",
   "id": "b45bc2fe",
   "metadata": {
    "id": "37f4cdb2",
    "papermill": {
     "duration": 0.007037,
     "end_time": "2022-08-10T05:01:59.640931",
     "exception": false,
     "start_time": "2022-08-10T05:01:59.633894",
     "status": "completed"
    },
    "tags": []
   },
   "source": [
    "### Problem Definition\n",
    "Apply Logistic Regression for Breast Cancer Dataset."
   ]
  },
  {
   "cell_type": "markdown",
   "id": "4058f691",
   "metadata": {
    "id": "5c82ffc3",
    "papermill": {
     "duration": 0.007166,
     "end_time": "2022-08-10T05:01:59.655308",
     "exception": false,
     "start_time": "2022-08-10T05:01:59.648142",
     "status": "completed"
    },
    "tags": []
   },
   "source": [
    "### References\n",
    "Links referred:\n",
    "1. https://www.quora.com/What-is-regularization-in-machine-learning\n",
    "2. https://towardsdatascience.com/regularization-in-machine-learning-76441ddcf99a\n",
    "3. https://towardsdatascience.com/regularization-an-important-concept-in-machine-learning-5891628907ea\n",
    "4. https://www.geeksforgeeks.org/regularization-in-machine-learning/\n",
    "5. https://analyticsindiamag.com/regularization-in-machine-learning-a-detailed-guide/\n",
    "6. https://towardsdatascience.com/l1-and-l2-regularization-methods-ce25e7fc831c\n",
    "<hr/>"
   ]
  },
  {
   "cell_type": "markdown",
   "id": "54566192",
   "metadata": {
    "id": "654fceeb",
    "papermill": {
     "duration": 0.007111,
     "end_time": "2022-08-10T05:01:59.669413",
     "exception": false,
     "start_time": "2022-08-10T05:01:59.662302",
     "status": "completed"
    },
    "tags": []
   },
   "source": [
    "## Performing Logistic Regression"
   ]
  },
  {
   "cell_type": "code",
   "execution_count": 1,
   "id": "33fe186a",
   "metadata": {
    "execution": {
     "iopub.execute_input": "2022-08-10T05:01:59.686770Z",
     "iopub.status.busy": "2022-08-10T05:01:59.685778Z",
     "iopub.status.idle": "2022-08-10T05:02:00.770367Z",
     "shell.execute_reply": "2022-08-10T05:02:00.769220Z"
    },
    "id": "a7504fa3",
    "papermill": {
     "duration": 1.096749,
     "end_time": "2022-08-10T05:02:00.773282",
     "exception": false,
     "start_time": "2022-08-10T05:01:59.676533",
     "status": "completed"
    },
    "tags": []
   },
   "outputs": [],
   "source": [
    "import numpy as np\n",
    "import pandas as pd\n",
    "import seaborn as sns"
   ]
  },
  {
   "cell_type": "code",
   "execution_count": 2,
   "id": "56d718cd",
   "metadata": {
    "execution": {
     "iopub.execute_input": "2022-08-10T05:02:00.789917Z",
     "iopub.status.busy": "2022-08-10T05:02:00.789535Z",
     "iopub.status.idle": "2022-08-10T05:02:00.842693Z",
     "shell.execute_reply": "2022-08-10T05:02:00.841254Z"
    },
    "id": "3865d3a1",
    "outputId": "43517b49-1116-49e6-e307-e3b7f7d4a2aa",
    "papermill": {
     "duration": 0.066532,
     "end_time": "2022-08-10T05:02:00.847497",
     "exception": false,
     "start_time": "2022-08-10T05:02:00.780965",
     "status": "completed"
    },
    "tags": []
   },
   "outputs": [
    {
     "data": {
      "text/html": [
       "<div>\n",
       "<style scoped>\n",
       "    .dataframe tbody tr th:only-of-type {\n",
       "        vertical-align: middle;\n",
       "    }\n",
       "\n",
       "    .dataframe tbody tr th {\n",
       "        vertical-align: top;\n",
       "    }\n",
       "\n",
       "    .dataframe thead th {\n",
       "        text-align: right;\n",
       "    }\n",
       "</style>\n",
       "<table border=\"1\" class=\"dataframe\">\n",
       "  <thead>\n",
       "    <tr style=\"text-align: right;\">\n",
       "      <th></th>\n",
       "      <th>id</th>\n",
       "      <th>diagnosis</th>\n",
       "      <th>radius_mean</th>\n",
       "      <th>texture_mean</th>\n",
       "      <th>perimeter_mean</th>\n",
       "      <th>area_mean</th>\n",
       "      <th>smoothness_mean</th>\n",
       "      <th>compactness_mean</th>\n",
       "      <th>concavity_mean</th>\n",
       "      <th>concave points_mean</th>\n",
       "      <th>...</th>\n",
       "      <th>radius_worst</th>\n",
       "      <th>texture_worst</th>\n",
       "      <th>perimeter_worst</th>\n",
       "      <th>area_worst</th>\n",
       "      <th>smoothness_worst</th>\n",
       "      <th>compactness_worst</th>\n",
       "      <th>concavity_worst</th>\n",
       "      <th>concave points_worst</th>\n",
       "      <th>symmetry_worst</th>\n",
       "      <th>fractal_dimension_worst</th>\n",
       "    </tr>\n",
       "  </thead>\n",
       "  <tbody>\n",
       "    <tr>\n",
       "      <th>0</th>\n",
       "      <td>842302</td>\n",
       "      <td>M</td>\n",
       "      <td>17.99</td>\n",
       "      <td>10.38</td>\n",
       "      <td>122.80</td>\n",
       "      <td>1001.0</td>\n",
       "      <td>0.11840</td>\n",
       "      <td>0.27760</td>\n",
       "      <td>0.3001</td>\n",
       "      <td>0.14710</td>\n",
       "      <td>...</td>\n",
       "      <td>25.38</td>\n",
       "      <td>17.33</td>\n",
       "      <td>184.60</td>\n",
       "      <td>2019.0</td>\n",
       "      <td>0.1622</td>\n",
       "      <td>0.6656</td>\n",
       "      <td>0.7119</td>\n",
       "      <td>0.2654</td>\n",
       "      <td>0.4601</td>\n",
       "      <td>0.11890</td>\n",
       "    </tr>\n",
       "    <tr>\n",
       "      <th>1</th>\n",
       "      <td>842517</td>\n",
       "      <td>M</td>\n",
       "      <td>20.57</td>\n",
       "      <td>17.77</td>\n",
       "      <td>132.90</td>\n",
       "      <td>1326.0</td>\n",
       "      <td>0.08474</td>\n",
       "      <td>0.07864</td>\n",
       "      <td>0.0869</td>\n",
       "      <td>0.07017</td>\n",
       "      <td>...</td>\n",
       "      <td>24.99</td>\n",
       "      <td>23.41</td>\n",
       "      <td>158.80</td>\n",
       "      <td>1956.0</td>\n",
       "      <td>0.1238</td>\n",
       "      <td>0.1866</td>\n",
       "      <td>0.2416</td>\n",
       "      <td>0.1860</td>\n",
       "      <td>0.2750</td>\n",
       "      <td>0.08902</td>\n",
       "    </tr>\n",
       "    <tr>\n",
       "      <th>2</th>\n",
       "      <td>84300903</td>\n",
       "      <td>M</td>\n",
       "      <td>19.69</td>\n",
       "      <td>21.25</td>\n",
       "      <td>130.00</td>\n",
       "      <td>1203.0</td>\n",
       "      <td>0.10960</td>\n",
       "      <td>0.15990</td>\n",
       "      <td>0.1974</td>\n",
       "      <td>0.12790</td>\n",
       "      <td>...</td>\n",
       "      <td>23.57</td>\n",
       "      <td>25.53</td>\n",
       "      <td>152.50</td>\n",
       "      <td>1709.0</td>\n",
       "      <td>0.1444</td>\n",
       "      <td>0.4245</td>\n",
       "      <td>0.4504</td>\n",
       "      <td>0.2430</td>\n",
       "      <td>0.3613</td>\n",
       "      <td>0.08758</td>\n",
       "    </tr>\n",
       "    <tr>\n",
       "      <th>3</th>\n",
       "      <td>84348301</td>\n",
       "      <td>M</td>\n",
       "      <td>11.42</td>\n",
       "      <td>20.38</td>\n",
       "      <td>77.58</td>\n",
       "      <td>386.1</td>\n",
       "      <td>0.14250</td>\n",
       "      <td>0.28390</td>\n",
       "      <td>0.2414</td>\n",
       "      <td>0.10520</td>\n",
       "      <td>...</td>\n",
       "      <td>14.91</td>\n",
       "      <td>26.50</td>\n",
       "      <td>98.87</td>\n",
       "      <td>567.7</td>\n",
       "      <td>0.2098</td>\n",
       "      <td>0.8663</td>\n",
       "      <td>0.6869</td>\n",
       "      <td>0.2575</td>\n",
       "      <td>0.6638</td>\n",
       "      <td>0.17300</td>\n",
       "    </tr>\n",
       "    <tr>\n",
       "      <th>4</th>\n",
       "      <td>84358402</td>\n",
       "      <td>M</td>\n",
       "      <td>20.29</td>\n",
       "      <td>14.34</td>\n",
       "      <td>135.10</td>\n",
       "      <td>1297.0</td>\n",
       "      <td>0.10030</td>\n",
       "      <td>0.13280</td>\n",
       "      <td>0.1980</td>\n",
       "      <td>0.10430</td>\n",
       "      <td>...</td>\n",
       "      <td>22.54</td>\n",
       "      <td>16.67</td>\n",
       "      <td>152.20</td>\n",
       "      <td>1575.0</td>\n",
       "      <td>0.1374</td>\n",
       "      <td>0.2050</td>\n",
       "      <td>0.4000</td>\n",
       "      <td>0.1625</td>\n",
       "      <td>0.2364</td>\n",
       "      <td>0.07678</td>\n",
       "    </tr>\n",
       "  </tbody>\n",
       "</table>\n",
       "<p>5 rows × 32 columns</p>\n",
       "</div>"
      ],
      "text/plain": [
       "         id diagnosis  radius_mean  texture_mean  perimeter_mean  area_mean  \\\n",
       "0    842302         M        17.99         10.38          122.80     1001.0   \n",
       "1    842517         M        20.57         17.77          132.90     1326.0   \n",
       "2  84300903         M        19.69         21.25          130.00     1203.0   \n",
       "3  84348301         M        11.42         20.38           77.58      386.1   \n",
       "4  84358402         M        20.29         14.34          135.10     1297.0   \n",
       "\n",
       "   smoothness_mean  compactness_mean  concavity_mean  concave points_mean  \\\n",
       "0          0.11840           0.27760          0.3001              0.14710   \n",
       "1          0.08474           0.07864          0.0869              0.07017   \n",
       "2          0.10960           0.15990          0.1974              0.12790   \n",
       "3          0.14250           0.28390          0.2414              0.10520   \n",
       "4          0.10030           0.13280          0.1980              0.10430   \n",
       "\n",
       "   ...  radius_worst  texture_worst  perimeter_worst  area_worst  \\\n",
       "0  ...         25.38          17.33           184.60      2019.0   \n",
       "1  ...         24.99          23.41           158.80      1956.0   \n",
       "2  ...         23.57          25.53           152.50      1709.0   \n",
       "3  ...         14.91          26.50            98.87       567.7   \n",
       "4  ...         22.54          16.67           152.20      1575.0   \n",
       "\n",
       "   smoothness_worst  compactness_worst  concavity_worst  concave points_worst  \\\n",
       "0            0.1622             0.6656           0.7119                0.2654   \n",
       "1            0.1238             0.1866           0.2416                0.1860   \n",
       "2            0.1444             0.4245           0.4504                0.2430   \n",
       "3            0.2098             0.8663           0.6869                0.2575   \n",
       "4            0.1374             0.2050           0.4000                0.1625   \n",
       "\n",
       "   symmetry_worst  fractal_dimension_worst  \n",
       "0          0.4601                  0.11890  \n",
       "1          0.2750                  0.08902  \n",
       "2          0.3613                  0.08758  \n",
       "3          0.6638                  0.17300  \n",
       "4          0.2364                  0.07678  \n",
       "\n",
       "[5 rows x 32 columns]"
      ]
     },
     "execution_count": 2,
     "metadata": {},
     "output_type": "execute_result"
    }
   ],
   "source": [
    "# read in the data and check the first 5 rows\n",
    "df = pd.read_csv('../input/breast-cancer-dataset/breast-cancer.csv')\n",
    "df.head()"
   ]
  },
  {
   "cell_type": "code",
   "execution_count": 3,
   "id": "b019c5c6",
   "metadata": {
    "execution": {
     "iopub.execute_input": "2022-08-10T05:02:00.870599Z",
     "iopub.status.busy": "2022-08-10T05:02:00.870163Z",
     "iopub.status.idle": "2022-08-10T05:02:00.881765Z",
     "shell.execute_reply": "2022-08-10T05:02:00.880611Z"
    },
    "id": "0d18331c",
    "outputId": "9fba3215-6a5e-4d02-a82c-9f10dd6c2630",
    "papermill": {
     "duration": 0.026777,
     "end_time": "2022-08-10T05:02:00.884558",
     "exception": false,
     "start_time": "2022-08-10T05:02:00.857781",
     "status": "completed"
    },
    "tags": []
   },
   "outputs": [
    {
     "data": {
      "text/plain": [
       "id                         0\n",
       "diagnosis                  0\n",
       "radius_mean                0\n",
       "texture_mean               0\n",
       "perimeter_mean             0\n",
       "area_mean                  0\n",
       "smoothness_mean            0\n",
       "compactness_mean           0\n",
       "concavity_mean             0\n",
       "concave points_mean        0\n",
       "symmetry_mean              0\n",
       "fractal_dimension_mean     0\n",
       "radius_se                  0\n",
       "texture_se                 0\n",
       "perimeter_se               0\n",
       "area_se                    0\n",
       "smoothness_se              0\n",
       "compactness_se             0\n",
       "concavity_se               0\n",
       "concave points_se          0\n",
       "symmetry_se                0\n",
       "fractal_dimension_se       0\n",
       "radius_worst               0\n",
       "texture_worst              0\n",
       "perimeter_worst            0\n",
       "area_worst                 0\n",
       "smoothness_worst           0\n",
       "compactness_worst          0\n",
       "concavity_worst            0\n",
       "concave points_worst       0\n",
       "symmetry_worst             0\n",
       "fractal_dimension_worst    0\n",
       "dtype: int64"
      ]
     },
     "execution_count": 3,
     "metadata": {},
     "output_type": "execute_result"
    }
   ],
   "source": [
    "# Checking for missing values \n",
    "df.isna().sum()"
   ]
  },
  {
   "cell_type": "code",
   "execution_count": 4,
   "id": "8db7ce36",
   "metadata": {
    "execution": {
     "iopub.execute_input": "2022-08-10T05:02:00.905095Z",
     "iopub.status.busy": "2022-08-10T05:02:00.904637Z",
     "iopub.status.idle": "2022-08-10T05:02:00.913920Z",
     "shell.execute_reply": "2022-08-10T05:02:00.912578Z"
    },
    "id": "653b1850",
    "outputId": "ff807e64-646e-4bb4-8271-a19ac5b7b317",
    "papermill": {
     "duration": 0.023424,
     "end_time": "2022-08-10T05:02:00.916593",
     "exception": false,
     "start_time": "2022-08-10T05:02:00.893169",
     "status": "completed"
    },
    "tags": []
   },
   "outputs": [
    {
     "data": {
      "text/plain": [
       "(569, 32)"
      ]
     },
     "execution_count": 4,
     "metadata": {},
     "output_type": "execute_result"
    }
   ],
   "source": [
    "df.shape"
   ]
  },
  {
   "cell_type": "code",
   "execution_count": 5,
   "id": "9ab089d0",
   "metadata": {
    "execution": {
     "iopub.execute_input": "2022-08-10T05:02:00.935598Z",
     "iopub.status.busy": "2022-08-10T05:02:00.935005Z",
     "iopub.status.idle": "2022-08-10T05:02:00.943824Z",
     "shell.execute_reply": "2022-08-10T05:02:00.943070Z"
    },
    "id": "81052820",
    "papermill": {
     "duration": 0.020314,
     "end_time": "2022-08-10T05:02:00.945872",
     "exception": false,
     "start_time": "2022-08-10T05:02:00.925558",
     "status": "completed"
    },
    "tags": []
   },
   "outputs": [],
   "source": [
    "df.dropna(axis=1, inplace=True)"
   ]
  },
  {
   "cell_type": "code",
   "execution_count": 6,
   "id": "b1a77f94",
   "metadata": {
    "execution": {
     "iopub.execute_input": "2022-08-10T05:02:00.964897Z",
     "iopub.status.busy": "2022-08-10T05:02:00.964320Z",
     "iopub.status.idle": "2022-08-10T05:02:00.977115Z",
     "shell.execute_reply": "2022-08-10T05:02:00.976370Z"
    },
    "id": "c1d41bf9",
    "outputId": "c6cf7fd0-d282-4f39-fc7d-db361b8b7917",
    "papermill": {
     "duration": 0.024671,
     "end_time": "2022-08-10T05:02:00.979119",
     "exception": false,
     "start_time": "2022-08-10T05:02:00.954448",
     "status": "completed"
    },
    "tags": []
   },
   "outputs": [
    {
     "data": {
      "text/plain": [
       "B    357\n",
       "M    212\n",
       "Name: diagnosis, dtype: int64"
      ]
     },
     "execution_count": 6,
     "metadata": {},
     "output_type": "execute_result"
    }
   ],
   "source": [
    "df['diagnosis'].value_counts()"
   ]
  },
  {
   "cell_type": "code",
   "execution_count": 7,
   "id": "19e93ad7",
   "metadata": {
    "execution": {
     "iopub.execute_input": "2022-08-10T05:02:00.997932Z",
     "iopub.status.busy": "2022-08-10T05:02:00.997362Z",
     "iopub.status.idle": "2022-08-10T05:02:01.130926Z",
     "shell.execute_reply": "2022-08-10T05:02:01.129822Z"
    },
    "id": "87b1f553",
    "papermill": {
     "duration": 0.146031,
     "end_time": "2022-08-10T05:02:01.133460",
     "exception": false,
     "start_time": "2022-08-10T05:02:00.987429",
     "status": "completed"
    },
    "tags": []
   },
   "outputs": [],
   "source": [
    "# Normalizing the labels\n",
    "from sklearn.preprocessing import LabelEncoder\n",
    "labelencoder = LabelEncoder()\n",
    "df.iloc[:,1] = labelencoder.fit_transform(df.iloc[:,1].values)"
   ]
  },
  {
   "cell_type": "code",
   "execution_count": 8,
   "id": "77c6f65b",
   "metadata": {
    "execution": {
     "iopub.execute_input": "2022-08-10T05:02:01.152212Z",
     "iopub.status.busy": "2022-08-10T05:02:01.151820Z",
     "iopub.status.idle": "2022-08-10T05:02:01.184111Z",
     "shell.execute_reply": "2022-08-10T05:02:01.182741Z"
    },
    "id": "25a7bfe9",
    "outputId": "e318892b-999f-4adb-f807-d9dbf217fac9",
    "papermill": {
     "duration": 0.045131,
     "end_time": "2022-08-10T05:02:01.187325",
     "exception": false,
     "start_time": "2022-08-10T05:02:01.142194",
     "status": "completed"
    },
    "tags": []
   },
   "outputs": [
    {
     "data": {
      "text/html": [
       "<div>\n",
       "<style scoped>\n",
       "    .dataframe tbody tr th:only-of-type {\n",
       "        vertical-align: middle;\n",
       "    }\n",
       "\n",
       "    .dataframe tbody tr th {\n",
       "        vertical-align: top;\n",
       "    }\n",
       "\n",
       "    .dataframe thead th {\n",
       "        text-align: right;\n",
       "    }\n",
       "</style>\n",
       "<table border=\"1\" class=\"dataframe\">\n",
       "  <thead>\n",
       "    <tr style=\"text-align: right;\">\n",
       "      <th></th>\n",
       "      <th>id</th>\n",
       "      <th>diagnosis</th>\n",
       "      <th>radius_mean</th>\n",
       "      <th>texture_mean</th>\n",
       "      <th>perimeter_mean</th>\n",
       "      <th>area_mean</th>\n",
       "      <th>smoothness_mean</th>\n",
       "      <th>compactness_mean</th>\n",
       "      <th>concavity_mean</th>\n",
       "      <th>concave points_mean</th>\n",
       "      <th>...</th>\n",
       "      <th>radius_worst</th>\n",
       "      <th>texture_worst</th>\n",
       "      <th>perimeter_worst</th>\n",
       "      <th>area_worst</th>\n",
       "      <th>smoothness_worst</th>\n",
       "      <th>compactness_worst</th>\n",
       "      <th>concavity_worst</th>\n",
       "      <th>concave points_worst</th>\n",
       "      <th>symmetry_worst</th>\n",
       "      <th>fractal_dimension_worst</th>\n",
       "    </tr>\n",
       "  </thead>\n",
       "  <tbody>\n",
       "    <tr>\n",
       "      <th>0</th>\n",
       "      <td>842302</td>\n",
       "      <td>1</td>\n",
       "      <td>17.99</td>\n",
       "      <td>10.38</td>\n",
       "      <td>122.80</td>\n",
       "      <td>1001.0</td>\n",
       "      <td>0.11840</td>\n",
       "      <td>0.27760</td>\n",
       "      <td>0.3001</td>\n",
       "      <td>0.14710</td>\n",
       "      <td>...</td>\n",
       "      <td>25.38</td>\n",
       "      <td>17.33</td>\n",
       "      <td>184.60</td>\n",
       "      <td>2019.0</td>\n",
       "      <td>0.1622</td>\n",
       "      <td>0.6656</td>\n",
       "      <td>0.7119</td>\n",
       "      <td>0.2654</td>\n",
       "      <td>0.4601</td>\n",
       "      <td>0.11890</td>\n",
       "    </tr>\n",
       "    <tr>\n",
       "      <th>1</th>\n",
       "      <td>842517</td>\n",
       "      <td>1</td>\n",
       "      <td>20.57</td>\n",
       "      <td>17.77</td>\n",
       "      <td>132.90</td>\n",
       "      <td>1326.0</td>\n",
       "      <td>0.08474</td>\n",
       "      <td>0.07864</td>\n",
       "      <td>0.0869</td>\n",
       "      <td>0.07017</td>\n",
       "      <td>...</td>\n",
       "      <td>24.99</td>\n",
       "      <td>23.41</td>\n",
       "      <td>158.80</td>\n",
       "      <td>1956.0</td>\n",
       "      <td>0.1238</td>\n",
       "      <td>0.1866</td>\n",
       "      <td>0.2416</td>\n",
       "      <td>0.1860</td>\n",
       "      <td>0.2750</td>\n",
       "      <td>0.08902</td>\n",
       "    </tr>\n",
       "    <tr>\n",
       "      <th>2</th>\n",
       "      <td>84300903</td>\n",
       "      <td>1</td>\n",
       "      <td>19.69</td>\n",
       "      <td>21.25</td>\n",
       "      <td>130.00</td>\n",
       "      <td>1203.0</td>\n",
       "      <td>0.10960</td>\n",
       "      <td>0.15990</td>\n",
       "      <td>0.1974</td>\n",
       "      <td>0.12790</td>\n",
       "      <td>...</td>\n",
       "      <td>23.57</td>\n",
       "      <td>25.53</td>\n",
       "      <td>152.50</td>\n",
       "      <td>1709.0</td>\n",
       "      <td>0.1444</td>\n",
       "      <td>0.4245</td>\n",
       "      <td>0.4504</td>\n",
       "      <td>0.2430</td>\n",
       "      <td>0.3613</td>\n",
       "      <td>0.08758</td>\n",
       "    </tr>\n",
       "    <tr>\n",
       "      <th>3</th>\n",
       "      <td>84348301</td>\n",
       "      <td>1</td>\n",
       "      <td>11.42</td>\n",
       "      <td>20.38</td>\n",
       "      <td>77.58</td>\n",
       "      <td>386.1</td>\n",
       "      <td>0.14250</td>\n",
       "      <td>0.28390</td>\n",
       "      <td>0.2414</td>\n",
       "      <td>0.10520</td>\n",
       "      <td>...</td>\n",
       "      <td>14.91</td>\n",
       "      <td>26.50</td>\n",
       "      <td>98.87</td>\n",
       "      <td>567.7</td>\n",
       "      <td>0.2098</td>\n",
       "      <td>0.8663</td>\n",
       "      <td>0.6869</td>\n",
       "      <td>0.2575</td>\n",
       "      <td>0.6638</td>\n",
       "      <td>0.17300</td>\n",
       "    </tr>\n",
       "    <tr>\n",
       "      <th>4</th>\n",
       "      <td>84358402</td>\n",
       "      <td>1</td>\n",
       "      <td>20.29</td>\n",
       "      <td>14.34</td>\n",
       "      <td>135.10</td>\n",
       "      <td>1297.0</td>\n",
       "      <td>0.10030</td>\n",
       "      <td>0.13280</td>\n",
       "      <td>0.1980</td>\n",
       "      <td>0.10430</td>\n",
       "      <td>...</td>\n",
       "      <td>22.54</td>\n",
       "      <td>16.67</td>\n",
       "      <td>152.20</td>\n",
       "      <td>1575.0</td>\n",
       "      <td>0.1374</td>\n",
       "      <td>0.2050</td>\n",
       "      <td>0.4000</td>\n",
       "      <td>0.1625</td>\n",
       "      <td>0.2364</td>\n",
       "      <td>0.07678</td>\n",
       "    </tr>\n",
       "  </tbody>\n",
       "</table>\n",
       "<p>5 rows × 32 columns</p>\n",
       "</div>"
      ],
      "text/plain": [
       "         id  diagnosis  radius_mean  texture_mean  perimeter_mean  area_mean  \\\n",
       "0    842302          1        17.99         10.38          122.80     1001.0   \n",
       "1    842517          1        20.57         17.77          132.90     1326.0   \n",
       "2  84300903          1        19.69         21.25          130.00     1203.0   \n",
       "3  84348301          1        11.42         20.38           77.58      386.1   \n",
       "4  84358402          1        20.29         14.34          135.10     1297.0   \n",
       "\n",
       "   smoothness_mean  compactness_mean  concavity_mean  concave points_mean  \\\n",
       "0          0.11840           0.27760          0.3001              0.14710   \n",
       "1          0.08474           0.07864          0.0869              0.07017   \n",
       "2          0.10960           0.15990          0.1974              0.12790   \n",
       "3          0.14250           0.28390          0.2414              0.10520   \n",
       "4          0.10030           0.13280          0.1980              0.10430   \n",
       "\n",
       "   ...  radius_worst  texture_worst  perimeter_worst  area_worst  \\\n",
       "0  ...         25.38          17.33           184.60      2019.0   \n",
       "1  ...         24.99          23.41           158.80      1956.0   \n",
       "2  ...         23.57          25.53           152.50      1709.0   \n",
       "3  ...         14.91          26.50            98.87       567.7   \n",
       "4  ...         22.54          16.67           152.20      1575.0   \n",
       "\n",
       "   smoothness_worst  compactness_worst  concavity_worst  concave points_worst  \\\n",
       "0            0.1622             0.6656           0.7119                0.2654   \n",
       "1            0.1238             0.1866           0.2416                0.1860   \n",
       "2            0.1444             0.4245           0.4504                0.2430   \n",
       "3            0.2098             0.8663           0.6869                0.2575   \n",
       "4            0.1374             0.2050           0.4000                0.1625   \n",
       "\n",
       "   symmetry_worst  fractal_dimension_worst  \n",
       "0          0.4601                  0.11890  \n",
       "1          0.2750                  0.08902  \n",
       "2          0.3613                  0.08758  \n",
       "3          0.6638                  0.17300  \n",
       "4          0.2364                  0.07678  \n",
       "\n",
       "[5 rows x 32 columns]"
      ]
     },
     "execution_count": 8,
     "metadata": {},
     "output_type": "execute_result"
    }
   ],
   "source": [
    "df.head()"
   ]
  },
  {
   "cell_type": "code",
   "execution_count": 9,
   "id": "09aa8ba9",
   "metadata": {
    "execution": {
     "iopub.execute_input": "2022-08-10T05:02:01.209839Z",
     "iopub.status.busy": "2022-08-10T05:02:01.208637Z",
     "iopub.status.idle": "2022-08-10T05:02:01.215560Z",
     "shell.execute_reply": "2022-08-10T05:02:01.214541Z"
    },
    "id": "fac29ec4",
    "papermill": {
     "duration": 0.020011,
     "end_time": "2022-08-10T05:02:01.218017",
     "exception": false,
     "start_time": "2022-08-10T05:02:01.198006",
     "status": "completed"
    },
    "tags": []
   },
   "outputs": [],
   "source": [
    "X = df.iloc[:,2:].values\n",
    "y = df.iloc[:,1].values"
   ]
  },
  {
   "cell_type": "code",
   "execution_count": 10,
   "id": "356af20d",
   "metadata": {
    "execution": {
     "iopub.execute_input": "2022-08-10T05:02:01.239569Z",
     "iopub.status.busy": "2022-08-10T05:02:01.238804Z",
     "iopub.status.idle": "2022-08-10T05:02:01.303742Z",
     "shell.execute_reply": "2022-08-10T05:02:01.302607Z"
    },
    "id": "57cc4bee",
    "papermill": {
     "duration": 0.078622,
     "end_time": "2022-08-10T05:02:01.306268",
     "exception": false,
     "start_time": "2022-08-10T05:02:01.227646",
     "status": "completed"
    },
    "tags": []
   },
   "outputs": [],
   "source": [
    "from sklearn.model_selection import train_test_split\n",
    "X_train, X_test, y_train, y_test = train_test_split(X, y, test_size=0.40)"
   ]
  },
  {
   "cell_type": "code",
   "execution_count": 11,
   "id": "e625269b",
   "metadata": {
    "execution": {
     "iopub.execute_input": "2022-08-10T05:02:01.325132Z",
     "iopub.status.busy": "2022-08-10T05:02:01.324743Z",
     "iopub.status.idle": "2022-08-10T05:02:01.331217Z",
     "shell.execute_reply": "2022-08-10T05:02:01.330489Z"
    },
    "id": "7abeddcd",
    "papermill": {
     "duration": 0.01837,
     "end_time": "2022-08-10T05:02:01.333170",
     "exception": false,
     "start_time": "2022-08-10T05:02:01.314800",
     "status": "completed"
    },
    "tags": []
   },
   "outputs": [],
   "source": [
    "from sklearn.preprocessing import StandardScaler\n",
    "sc = StandardScaler()\n",
    "X_train = sc.fit_transform(X_train)\n",
    "X_test = sc.fit_transform(X_test)"
   ]
  },
  {
   "cell_type": "code",
   "execution_count": 12,
   "id": "cea69dce",
   "metadata": {
    "execution": {
     "iopub.execute_input": "2022-08-10T05:02:01.352291Z",
     "iopub.status.busy": "2022-08-10T05:02:01.351687Z",
     "iopub.status.idle": "2022-08-10T05:02:01.357852Z",
     "shell.execute_reply": "2022-08-10T05:02:01.357135Z"
    },
    "id": "706bdaa8",
    "outputId": "890188bd-b88a-4487-8c01-e7d14a45b59c",
    "papermill": {
     "duration": 0.017975,
     "end_time": "2022-08-10T05:02:01.359705",
     "exception": false,
     "start_time": "2022-08-10T05:02:01.341730",
     "status": "completed"
    },
    "tags": []
   },
   "outputs": [
    {
     "data": {
      "text/plain": [
       "array([[-9.94662910e-02, -1.10903086e+00, -1.21296026e-01, ...,\n",
       "         2.30867184e-01,  1.11091273e-01, -6.41035910e-01],\n",
       "       [-1.04633508e+00,  1.94944144e+00, -1.04185859e+00, ...,\n",
       "        -3.31297967e-01, -1.08991663e+00, -9.67083127e-02],\n",
       "       [-1.78343601e+00,  1.24079918e+00, -1.79174320e+00, ...,\n",
       "        -1.69843928e+00, -5.84251555e-02, -7.57981292e-01],\n",
       "       ...,\n",
       "       [ 1.70714055e-02, -1.38371629e+00, -8.92019190e-04, ...,\n",
       "        -1.78061903e-01, -1.19546460e+00, -6.44225329e-01],\n",
       "       [ 1.22323656e+00,  6.17563315e-01,  1.14357975e+00, ...,\n",
       "        -3.23209260e-01, -8.61229375e-01, -1.01366642e+00],\n",
       "       [ 5.44404482e-01,  2.50546639e-01,  5.18323856e-01, ...,\n",
       "         5.16967753e-01,  1.73589025e+00,  1.15620199e+00]])"
      ]
     },
     "execution_count": 12,
     "metadata": {},
     "output_type": "execute_result"
    }
   ],
   "source": [
    "X_train"
   ]
  },
  {
   "cell_type": "code",
   "execution_count": 13,
   "id": "e32decab",
   "metadata": {
    "execution": {
     "iopub.execute_input": "2022-08-10T05:02:01.378598Z",
     "iopub.status.busy": "2022-08-10T05:02:01.378007Z",
     "iopub.status.idle": "2022-08-10T05:02:01.477643Z",
     "shell.execute_reply": "2022-08-10T05:02:01.476537Z"
    },
    "id": "a3073b78",
    "outputId": "a75a63e1-630f-40b9-cdec-0e5fdfd9610b",
    "papermill": {
     "duration": 0.113231,
     "end_time": "2022-08-10T05:02:01.481382",
     "exception": false,
     "start_time": "2022-08-10T05:02:01.368151",
     "status": "completed"
    },
    "tags": []
   },
   "outputs": [
    {
     "data": {
      "text/plain": [
       "LogisticRegression()"
      ]
     },
     "execution_count": 13,
     "metadata": {},
     "output_type": "execute_result"
    }
   ],
   "source": [
    "from sklearn.linear_model import LogisticRegression\n",
    "classifer = LogisticRegression()\n",
    "classifer.fit(X_train, y_train)"
   ]
  },
  {
   "cell_type": "code",
   "execution_count": 14,
   "id": "a096125b",
   "metadata": {
    "execution": {
     "iopub.execute_input": "2022-08-10T05:02:01.546742Z",
     "iopub.status.busy": "2022-08-10T05:02:01.546203Z",
     "iopub.status.idle": "2022-08-10T05:02:01.552199Z",
     "shell.execute_reply": "2022-08-10T05:02:01.551166Z"
    },
    "id": "f91c607f",
    "papermill": {
     "duration": 0.05437,
     "end_time": "2022-08-10T05:02:01.558772",
     "exception": false,
     "start_time": "2022-08-10T05:02:01.504402",
     "status": "completed"
    },
    "tags": []
   },
   "outputs": [],
   "source": [
    "predictions  = classifer.predict(X_test)"
   ]
  },
  {
   "cell_type": "code",
   "execution_count": 15,
   "id": "6c922688",
   "metadata": {
    "execution": {
     "iopub.execute_input": "2022-08-10T05:02:01.599549Z",
     "iopub.status.busy": "2022-08-10T05:02:01.599077Z",
     "iopub.status.idle": "2022-08-10T05:02:01.834139Z",
     "shell.execute_reply": "2022-08-10T05:02:01.832349Z"
    },
    "id": "60e419f8",
    "outputId": "6955d51e-ad44-4e05-dfc3-4c37d8e1268c",
    "papermill": {
     "duration": 0.25515,
     "end_time": "2022-08-10T05:02:01.837822",
     "exception": false,
     "start_time": "2022-08-10T05:02:01.582672",
     "status": "completed"
    },
    "tags": []
   },
   "outputs": [
    {
     "name": "stdout",
     "output_type": "stream",
     "text": [
      "[[139   1]\n",
      " [  7  81]]\n"
     ]
    },
    {
     "data": {
      "text/plain": [
       "<AxesSubplot:>"
      ]
     },
     "execution_count": 15,
     "metadata": {},
     "output_type": "execute_result"
    },
    {
     "data": {
      "image/png": "[encoded data removed]",
      "text/plain": [
       "<Figure size 432x288 with 2 Axes>"
      ]
     },
     "metadata": {
      "needs_background": "light"
     },
     "output_type": "display_data"
    }
   ],
   "source": [
    "from sklearn.metrics import confusion_matrix\n",
    "cm = confusion_matrix(y_test, predictions)\n",
    "print(cm)\n",
    "sns.heatmap(cm, annot=True)"
   ]
  },
  {
   "cell_type": "code",
   "execution_count": 16,
   "id": "bcc81e77",
   "metadata": {
    "execution": {
     "iopub.execute_input": "2022-08-10T05:02:01.857709Z",
     "iopub.status.busy": "2022-08-10T05:02:01.857320Z",
     "iopub.status.idle": "2022-08-10T05:02:01.863960Z",
     "shell.execute_reply": "2022-08-10T05:02:01.862771Z"
    },
    "id": "ae77c507",
    "outputId": "01338b36-e0ff-487b-8aeb-e86931fbc193",
    "papermill": {
     "duration": 0.018781,
     "end_time": "2022-08-10T05:02:01.865886",
     "exception": false,
     "start_time": "2022-08-10T05:02:01.847105",
     "status": "completed"
    },
    "tags": []
   },
   "outputs": [
    {
     "name": "stdout",
     "output_type": "stream",
     "text": [
      "0.9649122807017544\n"
     ]
    }
   ],
   "source": [
    "from sklearn.metrics import accuracy_score\n",
    "print(accuracy_score(y_test,predictions))"
   ]
  },
  {
   "cell_type": "markdown",
   "id": "c4566707",
   "metadata": {
    "id": "3deb758a",
    "papermill": {
     "duration": 0.008773,
     "end_time": "2022-08-10T05:02:01.883659",
     "exception": false,
     "start_time": "2022-08-10T05:02:01.874886",
     "status": "completed"
    },
    "tags": []
   },
   "source": [
    "#### 1. Demonstrate the Logistic Regression for different penalties/regularisation methods - none, l1, l2 (you may use 'saga' solver as the parameter)"
   ]
  },
  {
   "cell_type": "code",
   "execution_count": 17,
   "id": "4e941486",
   "metadata": {
    "execution": {
     "iopub.execute_input": "2022-08-10T05:02:01.905212Z",
     "iopub.status.busy": "2022-08-10T05:02:01.904468Z",
     "iopub.status.idle": "2022-08-10T05:02:01.934265Z",
     "shell.execute_reply": "2022-08-10T05:02:01.933128Z"
    },
    "id": "c3d2de2f",
    "outputId": "03627fa6-1012-41f0-cdf9-7559bc4ffddc",
    "papermill": {
     "duration": 0.043132,
     "end_time": "2022-08-10T05:02:01.936734",
     "exception": false,
     "start_time": "2022-08-10T05:02:01.893602",
     "status": "completed"
    },
    "tags": []
   },
   "outputs": [
    {
     "name": "stdout",
     "output_type": "stream",
     "text": [
      "0.9692982456140351\n"
     ]
    },
    {
     "name": "stderr",
     "output_type": "stream",
     "text": [
      "/opt/conda/lib/python3.7/site-packages/sklearn/linear_model/_sag.py:354: ConvergenceWarning: The max_iter was reached which means the coef_ did not converge\n",
      "  ConvergenceWarning,\n"
     ]
    }
   ],
   "source": [
    "from sklearn.linear_model import LogisticRegression\n",
    "classifer = LogisticRegression(penalty='l2', solver='saga')\n",
    "classifer.fit(X_train, y_train)\n",
    "predictions  = classifer.predict(X_test)\n",
    "from sklearn.metrics import accuracy_score\n",
    "print(accuracy_score(y_test,predictions))"
   ]
  },
  {
   "cell_type": "code",
   "execution_count": 18,
   "id": "92db2f78",
   "metadata": {
    "execution": {
     "iopub.execute_input": "2022-08-10T05:02:01.957383Z",
     "iopub.status.busy": "2022-08-10T05:02:01.956947Z",
     "iopub.status.idle": "2022-08-10T05:02:01.967332Z",
     "shell.execute_reply": "2022-08-10T05:02:01.965926Z"
    },
    "id": "3fa9f9a7",
    "outputId": "5dae80aa-26be-4dff-c51b-0a9e5e0fd359",
    "papermill": {
     "duration": 0.023905,
     "end_time": "2022-08-10T05:02:01.970145",
     "exception": false,
     "start_time": "2022-08-10T05:02:01.946240",
     "status": "completed"
    },
    "tags": []
   },
   "outputs": [
    {
     "name": "stdout",
     "output_type": "stream",
     "text": [
      "0.9649122807017544\n"
     ]
    },
    {
     "name": "stderr",
     "output_type": "stream",
     "text": [
      "/opt/conda/lib/python3.7/site-packages/sklearn/linear_model/_sag.py:354: ConvergenceWarning: The max_iter was reached which means the coef_ did not converge\n",
      "  ConvergenceWarning,\n"
     ]
    }
   ],
   "source": [
    "from sklearn.linear_model import LogisticRegression\n",
    "classifer = LogisticRegression(penalty='l1', solver='saga',max_iter=1)\n",
    "classifer.fit(X_train, y_train)\n",
    "predictions  = classifer.predict(X_test)\n",
    "from sklearn.metrics import accuracy_score\n",
    "print(accuracy_score(y_test,predictions))"
   ]
  },
  {
   "cell_type": "code",
   "execution_count": 19,
   "id": "63402d4e",
   "metadata": {
    "execution": {
     "iopub.execute_input": "2022-08-10T05:02:01.990448Z",
     "iopub.status.busy": "2022-08-10T05:02:01.990033Z",
     "iopub.status.idle": "2022-08-10T05:02:01.999722Z",
     "shell.execute_reply": "2022-08-10T05:02:01.998394Z"
    },
    "id": "f4b7b7b0",
    "outputId": "7e6553aa-abd5-4306-cb7a-49d195742250",
    "papermill": {
     "duration": 0.023095,
     "end_time": "2022-08-10T05:02:02.002714",
     "exception": false,
     "start_time": "2022-08-10T05:02:01.979619",
     "status": "completed"
    },
    "tags": []
   },
   "outputs": [
    {
     "name": "stdout",
     "output_type": "stream",
     "text": [
      "0.9692982456140351\n"
     ]
    },
    {
     "name": "stderr",
     "output_type": "stream",
     "text": [
      "/opt/conda/lib/python3.7/site-packages/sklearn/linear_model/_sag.py:354: ConvergenceWarning: The max_iter was reached which means the coef_ did not converge\n",
      "  ConvergenceWarning,\n"
     ]
    }
   ],
   "source": [
    "from sklearn.linear_model import LogisticRegression\n",
    "classifer = LogisticRegression(penalty='none', solver='saga', max_iter=1)\n",
    "classifer.fit(X_train, y_train)\n",
    "predictions  = classifer.predict(X_test)\n",
    "print(accuracy_score(y_test,predictions))"
   ]
  },
  {
   "cell_type": "markdown",
   "id": "a68a268b",
   "metadata": {
    "id": "42b39102",
    "papermill": {
     "duration": 0.009706,
     "end_time": "2022-08-10T05:02:02.022502",
     "exception": false,
     "start_time": "2022-08-10T05:02:02.012796",
     "status": "completed"
    },
    "tags": []
   },
   "source": [
    "Inference- L2 regularization gives the highest accuracy."
   ]
  },
  {
   "cell_type": "markdown",
   "id": "89cdbecb",
   "metadata": {
    "id": "00ef463c",
    "papermill": {
     "duration": 0.009335,
     "end_time": "2022-08-10T05:02:02.041139",
     "exception": false,
     "start_time": "2022-08-10T05:02:02.031804",
     "status": "completed"
    },
    "tags": []
   },
   "source": [
    "#### 2. What happens when the Maximum Iterations are kept as 1, 2, 5, 10, 20, 50, 100, 500 and 1000? Is there any change in the accuracy?"
   ]
  },
  {
   "cell_type": "code",
   "execution_count": 20,
   "id": "9246c5af",
   "metadata": {
    "execution": {
     "iopub.execute_input": "2022-08-10T05:02:02.062423Z",
     "iopub.status.busy": "2022-08-10T05:02:02.061242Z",
     "iopub.status.idle": "2022-08-10T05:02:02.475596Z",
     "shell.execute_reply": "2022-08-10T05:02:02.474202Z"
    },
    "id": "5d2fb164",
    "outputId": "17f2e01f-3398-45b0-b741-b6374f828310",
    "papermill": {
     "duration": 0.428176,
     "end_time": "2022-08-10T05:02:02.478624",
     "exception": false,
     "start_time": "2022-08-10T05:02:02.050448",
     "status": "completed"
    },
    "tags": []
   },
   "outputs": [
    {
     "name": "stderr",
     "output_type": "stream",
     "text": [
      "/opt/conda/lib/python3.7/site-packages/sklearn/linear_model/_sag.py:354: ConvergenceWarning: The max_iter was reached which means the coef_ did not converge\n",
      "  ConvergenceWarning,\n",
      "/opt/conda/lib/python3.7/site-packages/sklearn/linear_model/_sag.py:354: ConvergenceWarning: The max_iter was reached which means the coef_ did not converge\n",
      "  ConvergenceWarning,\n",
      "/opt/conda/lib/python3.7/site-packages/sklearn/linear_model/_sag.py:354: ConvergenceWarning: The max_iter was reached which means the coef_ did not converge\n",
      "  ConvergenceWarning,\n",
      "/opt/conda/lib/python3.7/site-packages/sklearn/linear_model/_sag.py:354: ConvergenceWarning: The max_iter was reached which means the coef_ did not converge\n",
      "  ConvergenceWarning,\n",
      "/opt/conda/lib/python3.7/site-packages/sklearn/linear_model/_sag.py:354: ConvergenceWarning: The max_iter was reached which means the coef_ did not converge\n",
      "  ConvergenceWarning,\n",
      "/opt/conda/lib/python3.7/site-packages/sklearn/linear_model/_sag.py:354: ConvergenceWarning: The max_iter was reached which means the coef_ did not converge\n",
      "  ConvergenceWarning,\n",
      "/opt/conda/lib/python3.7/site-packages/sklearn/linear_model/_sag.py:354: ConvergenceWarning: The max_iter was reached which means the coef_ did not converge\n",
      "  ConvergenceWarning,\n",
      "/opt/conda/lib/python3.7/site-packages/sklearn/linear_model/_sag.py:354: ConvergenceWarning: The max_iter was reached which means the coef_ did not converge\n",
      "  ConvergenceWarning,\n",
      "/opt/conda/lib/python3.7/site-packages/sklearn/linear_model/_sag.py:354: ConvergenceWarning: The max_iter was reached which means the coef_ did not converge\n",
      "  ConvergenceWarning,\n"
     ]
    },
    {
     "data": {
      "text/html": [
       "<div>\n",
       "<style scoped>\n",
       "    .dataframe tbody tr th:only-of-type {\n",
       "        vertical-align: middle;\n",
       "    }\n",
       "\n",
       "    .dataframe tbody tr th {\n",
       "        vertical-align: top;\n",
       "    }\n",
       "\n",
       "    .dataframe thead th {\n",
       "        text-align: right;\n",
       "    }\n",
       "</style>\n",
       "<table border=\"1\" class=\"dataframe\">\n",
       "  <thead>\n",
       "    <tr style=\"text-align: right;\">\n",
       "      <th></th>\n",
       "      <th>Max_iteration</th>\n",
       "      <th>Accuracy</th>\n",
       "      <th>Classes</th>\n",
       "      <th>Coefficient</th>\n",
       "      <th>Intercept</th>\n",
       "    </tr>\n",
       "  </thead>\n",
       "  <tbody>\n",
       "    <tr>\n",
       "      <th>0</th>\n",
       "      <td>1</td>\n",
       "      <td>0.951754</td>\n",
       "      <td>[0, 1]</td>\n",
       "      <td>[[0.26262019170527173, 0.13877185661801775, 0....</td>\n",
       "      <td>[-0.1662706141993544]</td>\n",
       "    </tr>\n",
       "    <tr>\n",
       "      <th>1</th>\n",
       "      <td>2</td>\n",
       "      <td>0.964912</td>\n",
       "      <td>[0, 1]</td>\n",
       "      <td>[[0.32696346929400527, 0.24811248347046924, 0....</td>\n",
       "      <td>[-0.2961311977653637]</td>\n",
       "    </tr>\n",
       "    <tr>\n",
       "      <th>2</th>\n",
       "      <td>5</td>\n",
       "      <td>0.969298</td>\n",
       "      <td>[0, 1]</td>\n",
       "      <td>[[0.3717727544540604, 0.2912490469093641, 0.37...</td>\n",
       "      <td>[-0.35708569083225156]</td>\n",
       "    </tr>\n",
       "    <tr>\n",
       "      <th>3</th>\n",
       "      <td>10</td>\n",
       "      <td>0.969298</td>\n",
       "      <td>[0, 1]</td>\n",
       "      <td>[[0.42029936853994443, 0.36976028990948007, 0....</td>\n",
       "      <td>[-0.44158256420723224]</td>\n",
       "    </tr>\n",
       "    <tr>\n",
       "      <th>4</th>\n",
       "      <td>20</td>\n",
       "      <td>0.964912</td>\n",
       "      <td>[0, 1]</td>\n",
       "      <td>[[0.43859466281204207, 0.4245924780740405, 0.4...</td>\n",
       "      <td>[-0.5910755083146342]</td>\n",
       "    </tr>\n",
       "    <tr>\n",
       "      <th>5</th>\n",
       "      <td>50</td>\n",
       "      <td>0.969298</td>\n",
       "      <td>[0, 1]</td>\n",
       "      <td>[[0.4344793896747582, 0.41766900352364345, 0.4...</td>\n",
       "      <td>[-0.6578763181374997]</td>\n",
       "    </tr>\n",
       "    <tr>\n",
       "      <th>6</th>\n",
       "      <td>100</td>\n",
       "      <td>0.969298</td>\n",
       "      <td>[0, 1]</td>\n",
       "      <td>[[0.37453685304721407, 0.3913534829239163, 0.3...</td>\n",
       "      <td>[-0.6687189953594965]</td>\n",
       "    </tr>\n",
       "    <tr>\n",
       "      <th>7</th>\n",
       "      <td>500</td>\n",
       "      <td>0.964912</td>\n",
       "      <td>[0, 1]</td>\n",
       "      <td>[[0.0, 0.24368033168460818, 0.0, 0.10772102005...</td>\n",
       "      <td>[-0.5489683582491687]</td>\n",
       "    </tr>\n",
       "    <tr>\n",
       "      <th>8</th>\n",
       "      <td>1000</td>\n",
       "      <td>0.964912</td>\n",
       "      <td>[0, 1]</td>\n",
       "      <td>[[0.0, 0.16036250934614768, 0.0, 0.0, 0.0, 0.0...</td>\n",
       "      <td>[-0.5348284663667363]</td>\n",
       "    </tr>\n",
       "  </tbody>\n",
       "</table>\n",
       "</div>"
      ],
      "text/plain": [
       "   Max_iteration  Accuracy Classes  \\\n",
       "0              1  0.951754  [0, 1]   \n",
       "1              2  0.964912  [0, 1]   \n",
       "2              5  0.969298  [0, 1]   \n",
       "3             10  0.969298  [0, 1]   \n",
       "4             20  0.964912  [0, 1]   \n",
       "5             50  0.969298  [0, 1]   \n",
       "6            100  0.969298  [0, 1]   \n",
       "7            500  0.964912  [0, 1]   \n",
       "8           1000  0.964912  [0, 1]   \n",
       "\n",
       "                                         Coefficient               Intercept  \n",
       "0  [[0.26262019170527173, 0.13877185661801775, 0....   [-0.1662706141993544]  \n",
       "1  [[0.32696346929400527, 0.24811248347046924, 0....   [-0.2961311977653637]  \n",
       "2  [[0.3717727544540604, 0.2912490469093641, 0.37...  [-0.35708569083225156]  \n",
       "3  [[0.42029936853994443, 0.36976028990948007, 0....  [-0.44158256420723224]  \n",
       "4  [[0.43859466281204207, 0.4245924780740405, 0.4...   [-0.5910755083146342]  \n",
       "5  [[0.4344793896747582, 0.41766900352364345, 0.4...   [-0.6578763181374997]  \n",
       "6  [[0.37453685304721407, 0.3913534829239163, 0.3...   [-0.6687189953594965]  \n",
       "7  [[0.0, 0.24368033168460818, 0.0, 0.10772102005...   [-0.5489683582491687]  \n",
       "8  [[0.0, 0.16036250934614768, 0.0, 0.0, 0.0, 0.0...   [-0.5348284663667363]  "
      ]
     },
     "execution_count": 20,
     "metadata": {},
     "output_type": "execute_result"
    }
   ],
   "source": [
    "from sklearn.linear_model import LogisticRegression\n",
    "from sklearn.metrics import accuracy_score\n",
    "\n",
    "li_iter =[1,2,5,10,20,50,100,500,1000] \n",
    "accu_df = pd.DataFrame()\n",
    "accu_df['Max_iteration'] = [1,2,5,10,20,50,100,500,1000]\n",
    "li2 = []\n",
    "li3 = []\n",
    "li4 = []\n",
    "li5 = []\n",
    "\n",
    "j = 1\n",
    "for i in li_iter:\n",
    "    classifer = LogisticRegression(penalty = 'l1', max_iter=i, solver = 'saga')\n",
    "    classifer.fit(X_train, y_train)\n",
    "    predictions  = classifer.predict(X_test)\n",
    "    li2.append(accuracy_score(y_test,predictions))\n",
    "    li3.append(classifer.classes_)\n",
    "    li4.append(classifer.coef_)\n",
    "    li5.append(classifer.intercept_)\n",
    "    j += 1\n",
    "\n",
    "accu_df['Accuracy'] = li2\n",
    "accu_df['Classes'] = li3\n",
    "accu_df[\"Coefficient\"] = li4\n",
    "accu_df[\"Intercept\"] = li5\n",
    "\n",
    "accu_df\n",
    "    "
   ]
  },
  {
   "cell_type": "markdown",
   "id": "6a9c6623",
   "metadata": {
    "id": "67d52f1a",
    "papermill": {
     "duration": 0.009774,
     "end_time": "2022-08-10T05:02:02.498661",
     "exception": false,
     "start_time": "2022-08-10T05:02:02.488887",
     "status": "completed"
    },
    "tags": []
   },
   "source": [
    "#### 3. Get the attributes: classes_, coef_ and intercept_ and print the same in the above case.\n"
   ]
  },
  {
   "cell_type": "code",
   "execution_count": 21,
   "id": "ae0ea721",
   "metadata": {
    "execution": {
     "iopub.execute_input": "2022-08-10T05:02:02.520631Z",
     "iopub.status.busy": "2022-08-10T05:02:02.519553Z",
     "iopub.status.idle": "2022-08-10T05:02:02.526407Z",
     "shell.execute_reply": "2022-08-10T05:02:02.525424Z"
    },
    "id": "6ddb6fcb",
    "outputId": "81ba0f3e-6741-4951-97f4-46556881ed37",
    "papermill": {
     "duration": 0.019759,
     "end_time": "2022-08-10T05:02:02.528458",
     "exception": false,
     "start_time": "2022-08-10T05:02:02.508699",
     "status": "completed"
    },
    "tags": []
   },
   "outputs": [
    {
     "data": {
      "text/plain": [
       "array([0, 1])"
      ]
     },
     "execution_count": 21,
     "metadata": {},
     "output_type": "execute_result"
    }
   ],
   "source": [
    "classifer.classes_"
   ]
  },
  {
   "cell_type": "code",
   "execution_count": 22,
   "id": "0cb6a9a4",
   "metadata": {
    "execution": {
     "iopub.execute_input": "2022-08-10T05:02:02.550158Z",
     "iopub.status.busy": "2022-08-10T05:02:02.549503Z",
     "iopub.status.idle": "2022-08-10T05:02:02.556536Z",
     "shell.execute_reply": "2022-08-10T05:02:02.555465Z"
    },
    "id": "26dc0e29",
    "outputId": "86ddf197-cd44-4d6b-b14d-2056406ca443",
    "papermill": {
     "duration": 0.020233,
     "end_time": "2022-08-10T05:02:02.558563",
     "exception": false,
     "start_time": "2022-08-10T05:02:02.538330",
     "status": "completed"
    },
    "tags": []
   },
   "outputs": [
    {
     "data": {
      "text/plain": [
       "array([[ 0.00000000e+00,  1.60362509e-01,  0.00000000e+00,\n",
       "         0.00000000e+00,  0.00000000e+00,  0.00000000e+00,\n",
       "         9.55447311e-01,  9.31392485e-01,  0.00000000e+00,\n",
       "         0.00000000e+00,  1.97459477e+00,  0.00000000e+00,\n",
       "         0.00000000e+00,  9.91085054e-02, -1.36977904e-03,\n",
       "        -1.08720781e+00,  0.00000000e+00,  0.00000000e+00,\n",
       "        -2.38628463e-01, -5.52985469e-01,  1.58187661e+00,\n",
       "         1.18812455e+00,  1.13225566e+00,  9.80033730e-01,\n",
       "         2.66590687e-01,  0.00000000e+00,  1.32248935e+00,\n",
       "         5.98320319e-01,  2.02471716e-01,  8.22811287e-03]])"
      ]
     },
     "execution_count": 22,
     "metadata": {},
     "output_type": "execute_result"
    }
   ],
   "source": [
    "classifer.coef_"
   ]
  },
  {
   "cell_type": "code",
   "execution_count": 23,
   "id": "4bc73df9",
   "metadata": {
    "execution": {
     "iopub.execute_input": "2022-08-10T05:02:02.579882Z",
     "iopub.status.busy": "2022-08-10T05:02:02.579529Z",
     "iopub.status.idle": "2022-08-10T05:02:02.585399Z",
     "shell.execute_reply": "2022-08-10T05:02:02.584623Z"
    },
    "id": "5ce7948b",
    "outputId": "89e41448-863d-4a4b-a062-4de934929ae0",
    "papermill": {
     "duration": 0.018894,
     "end_time": "2022-08-10T05:02:02.587285",
     "exception": false,
     "start_time": "2022-08-10T05:02:02.568391",
     "status": "completed"
    },
    "tags": []
   },
   "outputs": [
    {
     "data": {
      "text/plain": [
       "array([-0.53482847])"
      ]
     },
     "execution_count": 23,
     "metadata": {},
     "output_type": "execute_result"
    }
   ],
   "source": [
    "classifer.intercept_"
   ]
  },
  {
   "cell_type": "markdown",
   "id": "4f0c5952",
   "metadata": {
    "id": "e66b5d43",
    "papermill": {
     "duration": 0.009756,
     "end_time": "2022-08-10T05:02:02.607034",
     "exception": false,
     "start_time": "2022-08-10T05:02:02.597278",
     "status": "completed"
    },
    "tags": []
   },
   "source": [
    "<hr/>"
   ]
  },
  {
   "cell_type": "markdown",
   "id": "66d1a88f",
   "metadata": {
    "id": "66cac78f",
    "papermill": {
     "duration": 0.009737,
     "end_time": "2022-08-10T05:02:02.626838",
     "exception": false,
     "start_time": "2022-08-10T05:02:02.617101",
     "status": "completed"
    },
    "tags": []
   },
   "source": [
    "## Conclusion/Results"
   ]
  },
  {
   "cell_type": "markdown",
   "id": "874b7a31",
   "metadata": {
    "id": "de0e0938",
    "papermill": {
     "duration": 0.009795,
     "end_time": "2022-08-10T05:02:02.647006",
     "exception": false,
     "start_time": "2022-08-10T05:02:02.637211",
     "status": "completed"
    },
    "tags": []
   },
   "source": [
    "In this lab, I succesfully learned how to implement Logistic Regression using Machine Learing concepts. \n",
    "The accuracy of the model varies with the maximum iterations values and the regularization method that we use."
   ]
  }
 ],
 "metadata": {
  "kernelspec": {
   "display_name": "Python 3",
   "language": "python",
   "name": "python3"
  },
  "language_info": {
   "codemirror_mode": {
    "name": "ipython",
    "version": 3
   },
   "file_extension": ".py",
   "mimetype": "text/x-python",
   "name": "python",
   "nbconvert_exporter": "python",
   "pygments_lexer": "ipython3",
   "version": "3.7.12"
  },
  "papermill": {
   "default_parameters": {},
   "duration": 12.311815,
   "end_time": "2022-08-10T05:02:03.378686",
   "environment_variables": {},
   "exception": null,
   "input_path": "__notebook__.ipynb",
   "output_path": "__notebook__.ipynb",
   "parameters": {},
   "start_time": "2022-08-10T05:01:51.066871",
   "version": "2.3.4"
  }
 },
 "nbformat": 4,
 "nbformat_minor": 5
}
